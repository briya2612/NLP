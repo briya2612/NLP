{
  "nbformat": 4,
  "nbformat_minor": 0,
  "metadata": {
    "colab": {
      "provenance": []
    },
    "kernelspec": {
      "name": "python3",
      "display_name": "Python 3"
    },
    "language_info": {
      "name": "python"
    }
  },
  "cells": [
    {
      "cell_type": "code",
      "execution_count": null,
      "metadata": {
        "colab": {
          "base_uri": "https://localhost:8080/"
        },
        "id": "yjZzqsDhsMdM",
        "outputId": "ea6efd3f-e598-4499-b193-b530ca06b3bb"
      },
      "outputs": [
        {
          "output_type": "stream",
          "name": "stdout",
          "text": [
            "Looking in indexes: https://pypi.org/simple, https://us-python.pkg.dev/colab-wheels/public/simple/\n",
            "Requirement already satisfied: gensim in /usr/local/lib/python3.8/dist-packages (3.6.0)\n",
            "Requirement already satisfied: six>=1.5.0 in /usr/local/lib/python3.8/dist-packages (from gensim) (1.15.0)\n",
            "Requirement already satisfied: numpy>=1.11.3 in /usr/local/lib/python3.8/dist-packages (from gensim) (1.21.6)\n",
            "Requirement already satisfied: smart-open>=1.2.1 in /usr/local/lib/python3.8/dist-packages (from gensim) (6.3.0)\n",
            "Requirement already satisfied: scipy>=0.18.1 in /usr/local/lib/python3.8/dist-packages (from gensim) (1.7.3)\n",
            "Looking in indexes: https://pypi.org/simple, https://us-python.pkg.dev/colab-wheels/public/simple/\n",
            "Requirement already satisfied: spacy in /usr/local/lib/python3.8/dist-packages (3.4.4)\n",
            "Requirement already satisfied: tqdm<5.0.0,>=4.38.0 in /usr/local/lib/python3.8/dist-packages (from spacy) (4.64.1)\n",
            "Requirement already satisfied: packaging>=20.0 in /usr/local/lib/python3.8/dist-packages (from spacy) (21.3)\n",
            "Requirement already satisfied: pathy>=0.3.5 in /usr/local/lib/python3.8/dist-packages (from spacy) (0.10.1)\n",
            "Requirement already satisfied: preshed<3.1.0,>=3.0.2 in /usr/local/lib/python3.8/dist-packages (from spacy) (3.0.8)\n",
            "Requirement already satisfied: murmurhash<1.1.0,>=0.28.0 in /usr/local/lib/python3.8/dist-packages (from spacy) (1.0.9)\n",
            "Requirement already satisfied: catalogue<2.1.0,>=2.0.6 in /usr/local/lib/python3.8/dist-packages (from spacy) (2.0.8)\n",
            "Requirement already satisfied: pydantic!=1.8,!=1.8.1,<1.11.0,>=1.7.4 in /usr/local/lib/python3.8/dist-packages (from spacy) (1.10.2)\n",
            "Requirement already satisfied: wasabi<1.1.0,>=0.9.1 in /usr/local/lib/python3.8/dist-packages (from spacy) (0.10.1)\n",
            "Requirement already satisfied: spacy-loggers<2.0.0,>=1.0.0 in /usr/local/lib/python3.8/dist-packages (from spacy) (1.0.4)\n",
            "Requirement already satisfied: requests<3.0.0,>=2.13.0 in /usr/local/lib/python3.8/dist-packages (from spacy) (2.25.1)\n",
            "Requirement already satisfied: spacy-legacy<3.1.0,>=3.0.10 in /usr/local/lib/python3.8/dist-packages (from spacy) (3.0.10)\n",
            "Requirement already satisfied: smart-open<7.0.0,>=5.2.1 in /usr/local/lib/python3.8/dist-packages (from spacy) (6.3.0)\n",
            "Requirement already satisfied: langcodes<4.0.0,>=3.2.0 in /usr/local/lib/python3.8/dist-packages (from spacy) (3.3.0)\n",
            "Requirement already satisfied: srsly<3.0.0,>=2.4.3 in /usr/local/lib/python3.8/dist-packages (from spacy) (2.4.5)\n",
            "Requirement already satisfied: setuptools in /usr/local/lib/python3.8/dist-packages (from spacy) (57.4.0)\n",
            "Requirement already satisfied: typer<0.8.0,>=0.3.0 in /usr/local/lib/python3.8/dist-packages (from spacy) (0.7.0)\n",
            "Requirement already satisfied: numpy>=1.15.0 in /usr/local/lib/python3.8/dist-packages (from spacy) (1.21.6)\n",
            "Requirement already satisfied: cymem<2.1.0,>=2.0.2 in /usr/local/lib/python3.8/dist-packages (from spacy) (2.0.7)\n",
            "Requirement already satisfied: jinja2 in /usr/local/lib/python3.8/dist-packages (from spacy) (2.11.3)\n",
            "Requirement already satisfied: thinc<8.2.0,>=8.1.0 in /usr/local/lib/python3.8/dist-packages (from spacy) (8.1.6)\n",
            "Requirement already satisfied: pyparsing!=3.0.5,>=2.0.2 in /usr/local/lib/python3.8/dist-packages (from packaging>=20.0->spacy) (3.0.9)\n",
            "Requirement already satisfied: typing-extensions>=4.1.0 in /usr/local/lib/python3.8/dist-packages (from pydantic!=1.8,!=1.8.1,<1.11.0,>=1.7.4->spacy) (4.4.0)\n",
            "Requirement already satisfied: certifi>=2017.4.17 in /usr/local/lib/python3.8/dist-packages (from requests<3.0.0,>=2.13.0->spacy) (2022.12.7)\n",
            "Requirement already satisfied: urllib3<1.27,>=1.21.1 in /usr/local/lib/python3.8/dist-packages (from requests<3.0.0,>=2.13.0->spacy) (1.24.3)\n",
            "Requirement already satisfied: idna<3,>=2.5 in /usr/local/lib/python3.8/dist-packages (from requests<3.0.0,>=2.13.0->spacy) (2.10)\n",
            "Requirement already satisfied: chardet<5,>=3.0.2 in /usr/local/lib/python3.8/dist-packages (from requests<3.0.0,>=2.13.0->spacy) (4.0.0)\n",
            "Requirement already satisfied: blis<0.8.0,>=0.7.8 in /usr/local/lib/python3.8/dist-packages (from thinc<8.2.0,>=8.1.0->spacy) (0.7.9)\n",
            "Requirement already satisfied: confection<1.0.0,>=0.0.1 in /usr/local/lib/python3.8/dist-packages (from thinc<8.2.0,>=8.1.0->spacy) (0.0.3)\n",
            "Requirement already satisfied: click<9.0.0,>=7.1.1 in /usr/local/lib/python3.8/dist-packages (from typer<0.8.0,>=0.3.0->spacy) (7.1.2)\n",
            "Requirement already satisfied: MarkupSafe>=0.23 in /usr/local/lib/python3.8/dist-packages (from jinja2->spacy) (2.0.1)\n",
            "Looking in indexes: https://pypi.org/simple, https://us-python.pkg.dev/colab-wheels/public/simple/\n",
            "Requirement already satisfied: nltk in /usr/local/lib/python3.8/dist-packages (3.7)\n",
            "Requirement already satisfied: click in /usr/local/lib/python3.8/dist-packages (from nltk) (7.1.2)\n",
            "Requirement already satisfied: regex>=2021.8.3 in /usr/local/lib/python3.8/dist-packages (from nltk) (2022.6.2)\n",
            "Requirement already satisfied: joblib in /usr/local/lib/python3.8/dist-packages (from nltk) (1.2.0)\n",
            "Requirement already satisfied: tqdm in /usr/local/lib/python3.8/dist-packages (from nltk) (4.64.1)\n"
          ]
        }
      ],
      "source": [
        "#Installing all required packages\n",
        "!pip install gensim\n",
        "!pip install spacy\n",
        "!pip install nltk"
      ]
    },
    {
      "cell_type": "code",
      "source": [
        "# Import modules we need\n",
        "import pandas as pd\n",
        "import numpy as np\n",
        "import gensim\n",
        "import gensim.corpora as corpora\n",
        "from gensim.utils import simple_preprocess\n",
        "from gensim.models import CoherenceModel"
      ],
      "metadata": {
        "id": "JpAZ1KCpsVT5"
      },
      "execution_count": null,
      "outputs": []
    },
    {
      "cell_type": "code",
      "source": [
        "import nltk\n",
        "import spacy\n",
        "nltk.download('stopwords')"
      ],
      "metadata": {
        "colab": {
          "base_uri": "https://localhost:8080/"
        },
        "id": "LLTKuBXhshea",
        "outputId": "1e374c39-b2dc-4694-b135-8d682c8a55f7"
      },
      "execution_count": null,
      "outputs": [
        {
          "output_type": "stream",
          "name": "stderr",
          "text": [
            "/usr/local/lib/python3.8/dist-packages/torch/cuda/__init__.py:497: UserWarning: Can't initialize NVML\n",
            "  warnings.warn(\"Can't initialize NVML\")\n",
            "[nltk_data] Downloading package stopwords to /root/nltk_data...\n",
            "[nltk_data]   Unzipping corpora/stopwords.zip.\n"
          ]
        },
        {
          "output_type": "execute_result",
          "data": {
            "text/plain": [
              "True"
            ]
          },
          "metadata": {},
          "execution_count": 3
        }
      ]
    },
    {
      "cell_type": "code",
      "source": [
        "# Reading news dataset from github\n",
        "news_df = pd.read_json('https://raw.githubusercontent.com/selva86/datasets/master/newsgroups.json')\n",
        "print(news_df.head(5))"
      ],
      "metadata": {
        "colab": {
          "base_uri": "https://localhost:8080/"
        },
        "id": "TES_VUFjskEZ",
        "outputId": "b32d4b8e-6f67-412c-90c5-308f6b497a96"
      },
      "execution_count": null,
      "outputs": [
        {
          "output_type": "stream",
          "name": "stdout",
          "text": [
            "                                             content  target  \\\n",
            "0  From: lerxst@wam.umd.edu (where's my thing)\\nS...       7   \n",
            "1  From: guykuo@carson.u.washington.edu (Guy Kuo)...       4   \n",
            "2  From: twillis@ec.ecn.purdue.edu (Thomas E Will...       4   \n",
            "3  From: jgreen@amber (Joe Green)\\nSubject: Re: W...       1   \n",
            "4  From: jcm@head-cfa.harvard.edu (Jonathan McDow...      14   \n",
            "\n",
            "            target_names  \n",
            "0              rec.autos  \n",
            "1  comp.sys.mac.hardware  \n",
            "2  comp.sys.mac.hardware  \n",
            "3          comp.graphics  \n",
            "4              sci.space  \n"
          ]
        }
      ]
    },
    {
      "cell_type": "code",
      "source": [
        "import re\n",
        "from nltk.corpus import stopwords\n",
        "stopwords = stopwords.words('english')\n",
        "stopwords.extend(['from', 'subject', 're', 'edu', 'use'])\n",
        "# Cleaning text\n",
        "def textCleaning(text):\n",
        "    # Removing extra white spaces from text\n",
        "    text = re.sub(r'\\s+',' ',text)\n",
        "    # Removing special characters from text\n",
        "    text = re.sub(r'\\W',' ',str(text))\n",
        "    # Remove Emails\n",
        "    text = re.sub('\\S*@\\S*\\s?', '',text)\n",
        "    # Removing single characters from text\n",
        "    text = re.sub(r'\\s+[a-zA-Z]\\s+',' ',text)\n",
        "    # Removing numbers\n",
        "    text = re.sub(r'\\s+[0-9]*\\s+',' ',text)\n",
        "    #single quotes removing\n",
        "    text = re.sub('[,\\.!?]', '', text)\n",
        "    # Converting entire text into lower case\n",
        "    text = text.lower()\n",
        "    # Word tokenisation\n",
        "    tokens = text.split()\n",
        "    # Removing stop words from text\n",
        "    non_stopwords = [word for word in tokens if word not in stopwords]\n",
        "\n",
        "    return non_stopwords"
      ],
      "metadata": {
        "id": "NA-N4vNzsqzM"
      },
      "execution_count": null,
      "outputs": []
    },
    {
      "cell_type": "code",
      "source": [
        "data = news_df.content.values.tolist() # reading content column from dataset\n",
        "clean_data = [textCleaning(sent) for sent in data] # cleaning text\n",
        "print(clean_data[:1])"
      ],
      "metadata": {
        "colab": {
          "base_uri": "https://localhost:8080/"
        },
        "id": "PdeEC8Ixs7_B",
        "outputId": "a3b3889b-5c27-4c68-9e38-810e4b0053bd"
      },
      "execution_count": null,
      "outputs": [
        {
          "output_type": "stream",
          "name": "stdout",
          "text": [
            "[['lerxst', 'wam', 'umd', 'thing', 'car', 'nntp', 'posting', 'host', 'rac3', 'wam', 'umd', 'organization', 'university', 'maryland', 'college', 'park', 'lines', 'wondering', 'anyone', 'could', 'enlighten', 'car', 'saw', 'day', 'door', 'sports', 'car', 'looked', 'late', '60s', 'early', '70s', 'called', 'bricklin', 'doors', 'really', 'small', 'addition', 'front', 'bumper', 'separate', 'rest', 'body', 'know', 'anyone', 'tellme', 'model', 'name', 'engine', 'specs', 'years', 'production', 'car', 'made', 'history', 'whatever', 'info', 'funky', 'looking', 'car', 'please', 'mail', 'thanks', 'il', 'brought', 'neighborhood', 'lerxst']]\n"
          ]
        }
      ]
    },
    {
      "cell_type": "code",
      "source": [
        "# Build the bigram and trigram models\n",
        "bigram = gensim.models.Phrases(clean_data, min_count=5, threshold=100)\n",
        "trigram = gensim.models.Phrases(bigram[clean_data], threshold=100)\n",
        "\n",
        "# Faster way to get a sentence clubbed as a trigram/bigram\n",
        "bigram_mod = gensim.models.phrases.Phraser(bigram)\n",
        "trigram_mod = gensim.models.phrases.Phraser(trigram)"
      ],
      "metadata": {
        "colab": {
          "base_uri": "https://localhost:8080/"
        },
        "id": "gBSdK6-XtEv1",
        "outputId": "b04d31ad-6ede-4ae7-8e33-100ebdb3bfa6"
      },
      "execution_count": null,
      "outputs": [
        {
          "output_type": "stream",
          "name": "stderr",
          "text": [
            "/usr/local/lib/python3.8/dist-packages/gensim/models/phrases.py:598: UserWarning: For a faster implementation, use the gensim.models.phrases.Phraser class\n",
            "  warnings.warn(\"For a faster implementation, use the gensim.models.phrases.Phraser class\")\n"
          ]
        }
      ]
    },
    {
      "cell_type": "code",
      "source": [
        "# Define functions for bigrams, trigrams and lemmatization\n",
        "def make_bigrams(texts):\n",
        "    return [bigram_mod[doc] for doc in texts]\n",
        "\n",
        "def make_trigrams(texts):\n",
        "    return [trigram_mod[bigram_mod[doc]] for doc in texts]\n",
        "\n",
        "def lemmatization(texts, allowed_postags=['NOUN', 'ADJ', 'VERB', 'ADV']):\n",
        "    texts_out = []\n",
        "    for sent in texts:\n",
        "        doc = nlp(\" \".join(sent))\n",
        "        texts_out.append([token.lemma_ for token in doc if token.pos_ in allowed_postags])\n",
        "    return texts_out"
      ],
      "metadata": {
        "id": "rBRN2V2etQ7G"
      },
      "execution_count": null,
      "outputs": []
    },
    {
      "cell_type": "code",
      "source": [
        "# Form Bigrams\n",
        "bigram_words = make_bigrams(clean_data)\n",
        "\n",
        "# Initialize spacy 'en' model\n",
        "nlp = spacy.load('en_core_web_sm', disable=['parser', 'ner'])\n",
        "\n",
        "# Do lemmatization keeping only noun, adj, vb, adv\n",
        "lemmatised_text = lemmatization(bigram_words, allowed_postags=['NOUN', 'ADJ', 'VERB', 'ADV'])\n",
        "\n",
        "print(lemmatised_text[:1])"
      ],
      "metadata": {
        "colab": {
          "base_uri": "https://localhost:8080/"
        },
        "id": "3MVpvPpmtdtI",
        "outputId": "2ddf7de0-1bdf-4922-8cda-48d06a08a359"
      },
      "execution_count": null,
      "outputs": [
        {
          "output_type": "stream",
          "name": "stdout",
          "text": [
            "[['thing', 'car', 'nntp_poste', 'host', 'park', 'line', 'wondering_anyone', 'enlighten', 'car', 'see', 'day', 'door', 'sport', 'car', 'look', 'call', 'door', 'really', 'small', 'addition', 'separate', 'rest', 'body', 'know', 'tellme', 'model', 'name', 'engine', 'spec', 'year', 'production', 'car', 'make', 'history', 'info', 'funky', 'look', 'car', 'mail', 'thank', 'bring', 'neighborhood', 'lerxst']]\n"
          ]
        }
      ]
    },
    {
      "cell_type": "code",
      "source": [
        "# Create Dictionary\n",
        "id2word = corpora.Dictionary(lemmatised_text)\n",
        "\n",
        "# Creating Corpus\n",
        "texts = lemmatised_text\n",
        "\n",
        "# Term Document Frequency matrix\n",
        "corpus = [id2word.doc2bow(text) for text in texts]\n",
        "\n",
        "print(corpus[:1])"
      ],
      "metadata": {
        "colab": {
          "base_uri": "https://localhost:8080/"
        },
        "id": "FDEKp7yntgrp",
        "outputId": "60868e0c-c982-4033-9f77-2cb5dc1fbd7e"
      },
      "execution_count": null,
      "outputs": [
        {
          "output_type": "stream",
          "name": "stdout",
          "text": [
            "[[(0, 1), (1, 1), (2, 1), (3, 1), (4, 5), (5, 1), (6, 2), (7, 1), (8, 1), (9, 1), (10, 1), (11, 1), (12, 1), (13, 1), (14, 1), (15, 1), (16, 2), (17, 1), (18, 1), (19, 1), (20, 1), (21, 1), (22, 1), (23, 1), (24, 1), (25, 1), (26, 1), (27, 1), (28, 1), (29, 1), (30, 1), (31, 1), (32, 1), (33, 1), (34, 1), (35, 1), (36, 1)]]\n"
          ]
        }
      ]
    },
    {
      "cell_type": "code",
      "source": [
        "[[(id2word[id], freq) for id, freq in cp] for cp in corpus[:1]]"
      ],
      "metadata": {
        "colab": {
          "base_uri": "https://localhost:8080/"
        },
        "id": "I753pD97uNo7",
        "outputId": "3bcfa606-781c-4551-dbd0-e7c1069027cf"
      },
      "execution_count": null,
      "outputs": [
        {
          "output_type": "execute_result",
          "data": {
            "text/plain": [
              "[[('addition', 1),\n",
              "  ('body', 1),\n",
              "  ('bring', 1),\n",
              "  ('call', 1),\n",
              "  ('car', 5),\n",
              "  ('day', 1),\n",
              "  ('door', 2),\n",
              "  ('engine', 1),\n",
              "  ('enlighten', 1),\n",
              "  ('funky', 1),\n",
              "  ('history', 1),\n",
              "  ('host', 1),\n",
              "  ('info', 1),\n",
              "  ('know', 1),\n",
              "  ('lerxst', 1),\n",
              "  ('line', 1),\n",
              "  ('look', 2),\n",
              "  ('mail', 1),\n",
              "  ('make', 1),\n",
              "  ('model', 1),\n",
              "  ('name', 1),\n",
              "  ('neighborhood', 1),\n",
              "  ('nntp_poste', 1),\n",
              "  ('park', 1),\n",
              "  ('production', 1),\n",
              "  ('really', 1),\n",
              "  ('rest', 1),\n",
              "  ('see', 1),\n",
              "  ('separate', 1),\n",
              "  ('small', 1),\n",
              "  ('spec', 1),\n",
              "  ('sport', 1),\n",
              "  ('tellme', 1),\n",
              "  ('thank', 1),\n",
              "  ('thing', 1),\n",
              "  ('wondering_anyone', 1),\n",
              "  ('year', 1)]]"
            ]
          },
          "metadata": {},
          "execution_count": 11
        }
      ]
    },
    {
      "cell_type": "code",
      "source": [
        "# Build LDA model\n",
        "lda_model = gensim.models.ldamodel.LdaModel(corpus=corpus,\n",
        "                                           id2word=id2word,\n",
        "                                           num_topics=5,\n",
        "                                           random_state=100,\n",
        "                                           update_every=1,\n",
        "                                           chunksize=100,\n",
        "                                           passes=10,\n",
        "                                           alpha='auto',\n",
        "                                           per_word_topics=True)"
      ],
      "metadata": {
        "id": "AiV6tZ_wuSKg"
      },
      "execution_count": null,
      "outputs": []
    },
    {
      "cell_type": "code",
      "source": [
        "# Print the Keywords in the 5 topics\n",
        "print(lda_model.print_topics())\n",
        "doc_lda = lda_model[corpus]"
      ],
      "metadata": {
        "colab": {
          "base_uri": "https://localhost:8080/"
        },
        "id": "_X-TndYKuV82",
        "outputId": "77cbffc6-e157-4027-c921-97277a4104e5"
      },
      "execution_count": null,
      "outputs": [
        {
          "output_type": "stream",
          "name": "stdout",
          "text": [
            "[(0, '0.010*\"team\" + 0.010*\"game\" + 0.008*\"year\" + 0.006*\"government\" + 0.006*\"play\" + 0.005*\"gun\" + 0.005*\"win\" + 0.005*\"player\" + 0.004*\"state\" + 0.004*\"go\"'), (1, '0.013*\"say\" + 0.013*\"write\" + 0.012*\"people\" + 0.010*\"think\" + 0.008*\"know\" + 0.008*\"make\" + 0.008*\"line\" + 0.007*\"see\" + 0.007*\"article\" + 0.006*\"go\"'), (2, '0.221*\"ax\" + 0.028*\"t\" + 0.028*\"g\" + 0.016*\"_\" + 0.015*\"p\" + 0.014*\"r\" + 0.007*\"q\" + 0.006*\"m\" + 0.006*\"o\" + 0.005*\"o__o\"'), (3, '0.014*\"com\" + 0.010*\"line\" + 0.009*\"get\" + 0.008*\"organization\" + 0.008*\"write\" + 0.006*\"key\" + 0.005*\"article\" + 0.005*\"go\" + 0.005*\"nntp_poste\" + 0.005*\"car\"'), (4, '0.017*\"line\" + 0.009*\"organization\" + 0.008*\"use\" + 0.008*\"nntp_poste\" + 0.008*\"com\" + 0.007*\"host\" + 0.007*\"program\" + 0.007*\"drive\" + 0.007*\"get\" + 0.006*\"file\"')]\n"
          ]
        }
      ]
    },
    {
      "cell_type": "code",
      "source": [
        "# Compute Perplexity\n",
        "print('\\nPerplexity: ', lda_model.log_perplexity(corpus))  # a measure of how good the model is. lower the better.\n",
        "\n",
        "# Compute Coherence Score\n",
        "coherence_model_lda = CoherenceModel(model=lda_model, texts=lemmatised_text, dictionary=id2word, coherence='c_v')\n",
        "coherence_lda = coherence_model_lda.get_coherence()\n",
        "print('\\nCoherence Score: ', coherence_lda)"
      ],
      "metadata": {
        "colab": {
          "base_uri": "https://localhost:8080/"
        },
        "id": "sOC4a1lIu0dz",
        "outputId": "83433777-cfe0-4892-ecac-92dfd90dae6b"
      },
      "execution_count": null,
      "outputs": [
        {
          "output_type": "stream",
          "name": "stdout",
          "text": [
            "\n",
            "Perplexity:  -8.31873356748868\n",
            "\n",
            "Coherence Score:  0.6082085251387609\n"
          ]
        }
      ]
    },
    {
      "cell_type": "code",
      "source": [
        "!pip install pyLDAvis"
      ],
      "metadata": {
        "colab": {
          "base_uri": "https://localhost:8080/"
        },
        "id": "vbj6swjcu7la",
        "outputId": "5dd63a30-9502-4d7c-de43-7d9caeb29d97"
      },
      "execution_count": null,
      "outputs": [
        {
          "output_type": "stream",
          "name": "stdout",
          "text": [
            "Looking in indexes: https://pypi.org/simple, https://us-python.pkg.dev/colab-wheels/public/simple/\n",
            "Collecting pyLDAvis\n",
            "  Downloading pyLDAvis-3.3.1.tar.gz (1.7 MB)\n",
            "\u001b[2K     \u001b[90m━━━━━━━━━━━━━━━━━━━━━━━━━━━━━━━━━━━━━━━━\u001b[0m \u001b[32m1.7/1.7 MB\u001b[0m \u001b[31m22.1 MB/s\u001b[0m eta \u001b[36m0:00:00\u001b[0m\n",
            "\u001b[?25h  Installing build dependencies ... \u001b[?25l\u001b[?25hdone\n",
            "  Getting requirements to build wheel ... \u001b[?25l\u001b[?25hdone\n",
            "  Installing backend dependencies ... \u001b[?25l\u001b[?25hdone\n",
            "  Preparing metadata (pyproject.toml) ... \u001b[?25l\u001b[?25hdone\n",
            "Collecting funcy\n",
            "  Downloading funcy-1.17-py2.py3-none-any.whl (33 kB)\n",
            "Requirement already satisfied: numpy>=1.20.0 in /usr/local/lib/python3.8/dist-packages (from pyLDAvis) (1.21.6)\n",
            "Requirement already satisfied: future in /usr/local/lib/python3.8/dist-packages (from pyLDAvis) (0.16.0)\n",
            "Requirement already satisfied: scikit-learn in /usr/local/lib/python3.8/dist-packages (from pyLDAvis) (1.0.2)\n",
            "Requirement already satisfied: setuptools in /usr/local/lib/python3.8/dist-packages (from pyLDAvis) (57.4.0)\n",
            "Collecting sklearn\n",
            "  Downloading sklearn-0.0.post1.tar.gz (3.6 kB)\n",
            "  Preparing metadata (setup.py) ... \u001b[?25l\u001b[?25hdone\n",
            "Requirement already satisfied: pandas>=1.2.0 in /usr/local/lib/python3.8/dist-packages (from pyLDAvis) (1.3.5)\n",
            "Requirement already satisfied: numexpr in /usr/local/lib/python3.8/dist-packages (from pyLDAvis) (2.8.4)\n",
            "Requirement already satisfied: scipy in /usr/local/lib/python3.8/dist-packages (from pyLDAvis) (1.7.3)\n",
            "Requirement already satisfied: jinja2 in /usr/local/lib/python3.8/dist-packages (from pyLDAvis) (2.11.3)\n",
            "Requirement already satisfied: joblib in /usr/local/lib/python3.8/dist-packages (from pyLDAvis) (1.2.0)\n",
            "Requirement already satisfied: gensim in /usr/local/lib/python3.8/dist-packages (from pyLDAvis) (3.6.0)\n",
            "Requirement already satisfied: pytz>=2017.3 in /usr/local/lib/python3.8/dist-packages (from pandas>=1.2.0->pyLDAvis) (2022.7)\n",
            "Requirement already satisfied: python-dateutil>=2.7.3 in /usr/local/lib/python3.8/dist-packages (from pandas>=1.2.0->pyLDAvis) (2.8.2)\n",
            "Requirement already satisfied: six>=1.5.0 in /usr/local/lib/python3.8/dist-packages (from gensim->pyLDAvis) (1.15.0)\n",
            "Requirement already satisfied: smart-open>=1.2.1 in /usr/local/lib/python3.8/dist-packages (from gensim->pyLDAvis) (6.3.0)\n",
            "Requirement already satisfied: MarkupSafe>=0.23 in /usr/local/lib/python3.8/dist-packages (from jinja2->pyLDAvis) (2.0.1)\n",
            "Requirement already satisfied: threadpoolctl>=2.0.0 in /usr/local/lib/python3.8/dist-packages (from scikit-learn->pyLDAvis) (3.1.0)\n",
            "Building wheels for collected packages: pyLDAvis, sklearn\n",
            "  Building wheel for pyLDAvis (pyproject.toml) ... \u001b[?25l\u001b[?25hdone\n",
            "  Created wheel for pyLDAvis: filename=pyLDAvis-3.3.1-py2.py3-none-any.whl size=136898 sha256=92dd3dc88b4827d91ab08ff62d6e1210d83bf589cae9c73a226e5784d16ccde9\n",
            "  Stored in directory: /root/.cache/pip/wheels/90/61/ec/9dbe9efc3acf9c4e37ba70fbbcc3f3a0ebd121060aa593181a\n",
            "  Building wheel for sklearn (setup.py) ... \u001b[?25l\u001b[?25hdone\n",
            "  Created wheel for sklearn: filename=sklearn-0.0.post1-py3-none-any.whl size=2344 sha256=bcd1e43eeac5b6c23162a663f8572452d2b0525a4e3773a03500936e3f34fd59\n",
            "  Stored in directory: /root/.cache/pip/wheels/14/25/f7/1cc0956978ae479e75140219088deb7a36f60459df242b1a72\n",
            "Successfully built pyLDAvis sklearn\n",
            "Installing collected packages: sklearn, funcy, pyLDAvis\n",
            "Successfully installed funcy-1.17 pyLDAvis-3.3.1 sklearn-0.0.post1\n"
          ]
        }
      ]
    },
    {
      "cell_type": "code",
      "source": [
        "# Plotting tools\n",
        "import pyLDAvis\n",
        "import pyLDAvis.gensim_models  # don't skip this\n",
        "import matplotlib.pyplot as plt\n",
        "%matplotlib inline"
      ],
      "metadata": {
        "colab": {
          "base_uri": "https://localhost:8080/"
        },
        "id": "HFhjFLr9vD9Y",
        "outputId": "7573456f-21f1-424a-eb60-565c11137825"
      },
      "execution_count": null,
      "outputs": [
        {
          "output_type": "stream",
          "name": "stderr",
          "text": [
            "/usr/local/lib/python3.8/dist-packages/past/types/oldstr.py:5: DeprecationWarning: Using or importing the ABCs from 'collections' instead of from 'collections.abc' is deprecated since Python 3.3, and in 3.10 it will stop working\n",
            "  from collections import Iterable\n"
          ]
        }
      ]
    },
    {
      "cell_type": "code",
      "source": [
        "# Visualize the topics\n",
        "pyLDAvis.enable_notebook()\n",
        "vis = pyLDAvis.gensim_models.prepare(lda_model, corpus, id2word)\n",
        "vis"
      ],
      "metadata": {
        "colab": {
          "base_uri": "https://localhost:8080/",
          "height": 917
        },
        "id": "ZQe_akgrvKSK",
        "outputId": "804948b6-5e68-458d-c6e3-3abf67a8044d"
      },
      "execution_count": null,
      "outputs": [
        {
          "output_type": "stream",
          "name": "stderr",
          "text": [
            "/usr/local/lib/python3.8/dist-packages/pyLDAvis/_prepare.py:246: FutureWarning: In a future version of pandas all arguments of DataFrame.drop except for the argument 'labels' will be keyword-only\n",
            "  default_term_info = default_term_info.sort_values(\n"
          ]
        },
        {
          "output_type": "execute_result",
          "data": {
            "text/plain": [
              "PreparedData(topic_coordinates=              x         y  topics  cluster       Freq\n",
              "topic                                                \n",
              "1     -0.162958 -0.047054       1        1  35.092472\n",
              "3     -0.143238 -0.053213       2        1  23.749118\n",
              "4     -0.115623 -0.132227       3        1  21.467860\n",
              "0      0.009016  0.313414       4        1  12.085993\n",
              "2      0.412802 -0.080921       5        1   7.604557, topic_info=         Term          Freq         Total Category  logprob  loglift\n",
              "4912       ax  22291.000000  22291.000000  Default  30.0000  30.0000\n",
              "5052        g   2987.000000   2987.000000  Default  29.0000  29.0000\n",
              "5351        t   2825.000000   2825.000000  Default  28.0000  28.0000\n",
              "310       say   6285.000000   6285.000000  Default  27.0000  27.0000\n",
              "140    people   5621.000000   5621.000000  Default  26.0000  26.0000\n",
              "...       ...           ...           ...      ...      ...      ...\n",
              "4955        c    497.633486    600.115509   Topic5  -5.3123   2.3892\n",
              "2787        m    599.578446    792.749920   Topic5  -5.1260   2.2971\n",
              "10877      dn    445.714051    591.123870   Topic5  -5.4225   2.2941\n",
              "5141        k    206.838699    220.218180   Topic5  -6.1903   2.5137\n",
              "5230        n    223.797002    276.200843   Topic5  -6.1115   2.3660\n",
              "\n",
              "[334 rows x 6 columns], token_table=       Topic      Freq   Term\n",
              "term                         \n",
              "65379      3  0.004825    0el\n",
              "65379      5  0.989198    0el\n",
              "65422      3  0.006024    2ei\n",
              "65422      5  0.987973    2ei\n",
              "4778       5  0.998112    34u\n",
              "...      ...       ...    ...\n",
              "201        3  0.146458  write\n",
              "36         1  0.234242   year\n",
              "36         2  0.338706   year\n",
              "36         4  0.426827   year\n",
              "4385       5  0.997731      z\n",
              "\n",
              "[505 rows x 3 columns], R=30, lambda_step=0.01, plot_opts={'xlab': 'PC1', 'ylab': 'PC2'}, topic_order=[2, 4, 5, 1, 3])"
            ],
            "text/html": [
              "\n",
              "<link rel=\"stylesheet\" type=\"text/css\" href=\"https://cdn.jsdelivr.net/gh/bmabey/pyLDAvis@3.3.1/pyLDAvis/js/ldavis.v1.0.0.css\">\n",
              "\n",
              "\n",
              "<div id=\"ldavis_el102139790431880800319043010\"></div>\n",
              "<script type=\"text/javascript\">\n",
              "\n",
              "var ldavis_el102139790431880800319043010_data = {\"mdsDat\": {\"x\": [-0.1629575019525496, -0.1432382246208042, -0.11562273876333058, 0.00901642011882457, 0.4128020452178601], \"y\": [-0.047054048979394816, -0.05321311670539545, -0.1322265288625369, 0.3134143981090575, -0.08092070356173027], \"topics\": [1, 2, 3, 4, 5], \"cluster\": [1, 1, 1, 1, 1], \"Freq\": [35.09247150786868, 23.74911774356567, 21.467860067716476, 12.085993196263423, 7.604557484585755]}, \"tinfo\": {\"Term\": [\"ax\", \"g\", \"t\", \"say\", \"people\", \"_\", \"p\", \"r\", \"team\", \"think\", \"game\", \"com\", \"year\", \"file\", \"key\", \"believe\", \"window\", \"program\", \"line\", \"evidence\", \"use\", \"drive\", \"write\", \"government\", \"car\", \"mail\", \"reason\", \"play\", \"card\", \"gun\", \"believe\", \"evidence\", \"claim\", \"life\", \"faith\", \"christian\", \"religion\", \"argument\", \"belief\", \"love\", \"truth\", \"speak\", \"atheist\", \"certainly\", \"church\", \"human\", \"statement\", \"conclusion\", \"religious\", \"die\", \"reality\", \"indeed\", \"brain\", \"sin\", \"revelation\", \"therefore\", \"judge\", \"nature\", \"existence\", \"ride\", \"sense\", \"people\", \"explain\", \"prove\", \"say\", \"reason\", \"agree\", \"think\", \"fact\", \"matter\", \"child\", \"word\", \"person\", \"true\", \"come\", \"mean\", \"even\", \"man\", \"see\", \"write\", \"make\", \"many\", \"law\", \"tell\", \"know\", \"thing\", \"way\", \"never\", \"point\", \"article\", \"well\", \"go\", \"right\", \"good\", \"time\", \"take\", \"give\", \"line\", \"get\", \"com\", \"organization\", \"also\", \"key\", \"car\", \"chip\", \"patient\", \"bike\", \"encryption\", \"ripem\", \"tape\", \"engine\", \"cool\", \"clipper\", \"item\", \"disease\", \"factory\", \"encrypt\", \"clipper_chip\", \"secure\", \"mount\", \"pull\", \"dealer\", \"market\", \"diagnosis\", \"health\", \"doctor\", \"seller\", \"vehicle\", \"expensive\", \"motorcycle\", \"circuit\", \"headache\", \"processor\", \"block\", \"low\", \"cost\", \"rate\", \"cheap\", \"launch\", \"buy\", \"company\", \"technology\", \"com\", \"power\", \"pay\", \"private\", \"high\", \"light\", \"get\", \"organization\", \"public\", \"line\", \"money\", \"sell\", \"write\", \"new\", \"article\", \"use\", \"nntp_poste\", \"host\", \"go\", \"good\", \"need\", \"work\", \"much\", \"time\", \"make\", \"year\", \"take\", \"system\", \"well\", \"look\", \"also\", \"know\", \"file\", \"window\", \"software\", \"sale\", \"image\", \"entry\", \"cpu\", \"email\", \"memory\", \"application\", \"color\", \"disk\", \"video\", \"screen\", \"graphic\", \"display\", \"server\", \"mode\", \"monitor\", \"pin\", \"pc\", \"print\", \"scsi\", \"format\", \"controller\", \"thanks_advance\", \"port\", \"orbit\", \"motif\", \"manual\", \"mb\", \"input\", \"program\", \"version\", \"card\", \"mail\", \"machine\", \"copy\", \"thank\", \"driver\", \"drive\", \"info\", \"computer\", \"line\", \"use\", \"system\", \"run\", \"nntp_poste\", \"host\", \"problem\", \"organization\", \"set\", \"need\", \"available\", \"include\", \"com\", \"work\", \"get\", \"send\", \"also\", \"information\", \"do\", \"know\", \"write\", \"try\", \"help\", \"new\", \"team\", \"game\", \"player\", \"hockey\", \"season\", \"war\", \"soldier\", \"israeli\", \"lebanese\", \"black\", \"armenian\", \"trade\", \"military\", \"crime\", \"score\", \"weapon\", \"wing\", \"village\", \"land\", \"nhl\", \"playoff\", \"pen\", \"arab\", \"civilian\", \"baseball\", \"united_state\", \"terrorist\", \"firearm\", \"bomb\", \"criminal\", \"fan\", \"play\", \"win\", \"gun\", \"government\", \"attack\", \"city\", \"year\", \"talk\", \"state\", \"force\", \"division\", \"kill\", \"report\", \"first\", \"go\", \"line\", \"ax\", \"t\", \"34u\", \"z\", \"o\", \"s0\", \"6ei\", \"6um\", \"cx\", \"q\", \"75u_75u\", \"rlk\", \"u\", \"mu\", \"a85\", \"sy\", \"3dy\", \"c4\", \"mc\", \"o__o\", \"nei\", \"4u\", \"6ql\", \"j\", \"g6\", \"m6\", \"o1\", \"m0\", \"rz\", \"m45\", \"p45\", \"0el\", \"lw\", \"g\", \"h\", \"p\", \"2ei\", \"l\", \"r\", \"v\", \"_\", \"c\", \"m\", \"dn\", \"k\", \"n\"], \"Freq\": [22291.0, 2987.0, 2825.0, 6285.0, 5621.0, 1811.0, 1578.0, 1512.0, 1681.0, 5385.0, 1586.0, 9245.0, 3120.0, 1851.0, 1968.0, 2567.0, 1688.0, 1981.0, 12338.0, 2254.0, 4375.0, 2539.0, 9661.0, 1528.0, 1520.0, 1774.0, 2457.0, 1090.0, 1470.0, 1088.0, 2566.2199371251213, 2253.365811921388, 1560.172505725832, 1154.7853402238804, 1068.9620907930516, 849.4144867816524, 778.1529030724773, 713.0695691718047, 689.1880686767554, 690.6891041896765, 683.6463884929935, 683.9675470864636, 598.3059342869255, 571.4768019400749, 557.0531319334949, 557.1293684660661, 522.3240837879575, 483.6541057535128, 479.81863820873843, 713.6087555728626, 445.8454216035819, 432.600544070755, 424.3509216455977, 392.7303286488788, 370.88330250560915, 371.7134999097321, 373.0873299422749, 365.5633643559509, 361.80809157054546, 357.63644585938334, 1289.1999987135289, 5424.459411814382, 754.1373108668673, 728.0803580792953, 5871.688287906078, 2335.407816092343, 949.2044750241982, 4804.971975709065, 1534.5407640964556, 761.750065444717, 1059.7625210475671, 962.616357194521, 1105.4342769535942, 1121.0232923072717, 2685.710670807691, 1875.4523190669079, 2284.633634732539, 1390.2016923567628, 3228.6204077252605, 5828.563786500141, 3810.074598087728, 2152.136710015278, 1216.687018891118, 1847.2695273774975, 3859.0086919871237, 2320.5509100294025, 2162.047025471248, 1428.6229527703654, 1895.164288519906, 3110.7099283138527, 2601.264450524214, 2998.9990080689136, 1884.9852474199654, 2573.331515123629, 2614.7330492045435, 2050.4341391174107, 1844.3094244001688, 3709.362559890437, 2598.097652196842, 2716.626265656124, 2223.2097628398515, 1850.0068852084519, 1968.0193851417646, 1519.3172839795857, 1151.384787284036, 699.9151942725392, 578.691690180033, 544.0480996571441, 578.1431677031229, 456.550287958183, 412.8449211720456, 434.4713041827819, 392.10799737443637, 406.36782039606214, 366.58019870791975, 370.5360336059571, 348.0917106694564, 330.91552265904085, 310.48757392535873, 312.16058949716, 297.2739360667452, 287.33919516177514, 273.58439224909205, 270.2970737067109, 271.5089935343581, 263.3159802923061, 311.68296248622465, 249.1905540844135, 248.15968924078246, 245.04935249570778, 243.37903403402512, 258.38889218856525, 246.00767058145473, 445.77751640921815, 726.626418807423, 766.1642183773687, 606.1570046868528, 578.7492652246056, 351.0272673397704, 932.1800429814976, 591.7735182489047, 702.5815536662535, 4375.553376825094, 905.8481752412551, 682.5466124069966, 417.19486440578095, 863.7115357689996, 476.588311629004, 2708.720829058469, 2446.913414011481, 787.5685576693611, 3295.542416434241, 660.8423985042663, 637.5494950032388, 2417.2672199322956, 1193.9791648735634, 1648.359068136849, 1471.509080620103, 1557.1003106805294, 1459.5234902067848, 1582.0470013764582, 1358.4369772135333, 1157.8650438623351, 1144.7945179691985, 1007.9867446576411, 1238.971952222981, 1331.397769410077, 1057.2317187597607, 1035.182274761849, 1039.2258116079606, 1008.2259251168664, 917.133984838767, 962.1838701928724, 911.1882331038364, 1850.6880959691173, 1687.5480554064566, 1114.3981792160164, 976.1564145350571, 805.5405954383396, 800.7850670042097, 776.0517150750111, 754.4365271102248, 759.6713035865425, 690.9004036722205, 687.9705157243819, 664.668406494818, 661.9695182262288, 604.9829190081857, 575.6479499762353, 570.8244219237164, 533.6030561742758, 511.7425720251056, 500.14332980248156, 506.17867739578475, 644.2821872428682, 466.15400250034594, 442.41298061198984, 442.9233426259089, 391.4235496893153, 385.86662087456114, 381.5837395440535, 355.00285456849684, 339.0817556243373, 339.3104333653979, 615.6509645054263, 458.1484903537655, 1868.7412317288654, 1166.1547121752108, 1393.2307139320035, 1586.4409154983098, 976.6257114135783, 797.1536883589604, 1533.029703044618, 971.8970511213485, 1856.2825075003493, 804.8919785905446, 1058.6118230183586, 4819.621358345612, 2237.2988980332193, 1842.8932831279062, 1351.3365802595943, 2172.26764542484, 1998.4312980601253, 1562.9662530907653, 2461.114898572803, 976.9823611193925, 1494.960133274774, 857.1872675506536, 1045.9811426816818, 2153.083792108191, 1379.1565841349275, 1854.5644059227493, 985.6214306860857, 1259.6370051175736, 963.5090825845115, 977.4415741520648, 1293.8041265438876, 1415.225173914673, 1013.3571150346164, 988.2870157269369, 988.1396058224877, 1680.7451907077855, 1585.2986391183072, 777.6646231405323, 585.6149035295525, 550.6770050105744, 504.6445449770759, 498.8569062681145, 493.2156000049251, 440.06427937255995, 436.76324647641223, 404.4679595451301, 407.9168935350136, 398.5906464609012, 395.29473034501655, 378.86848379636484, 373.08211494527905, 359.11046632122594, 350.6648656837792, 338.1017882337544, 329.0662639156115, 325.03749041051384, 307.5378778182073, 296.0031798291593, 296.9677302575113, 290.88757605205024, 293.07796884102083, 290.1915071924659, 285.53234262408034, 277.8582179947667, 270.874354492695, 371.16111876972167, 917.3426401571876, 793.8892984258274, 838.0748248769196, 999.354319516343, 517.1546618839398, 363.39702097505204, 1331.9809661247946, 636.8591217254689, 690.2077932111927, 448.4770504490486, 391.5305354631573, 473.92485287921255, 481.2348644371045, 607.5950602405497, 668.6556906505252, 509.13812381337107, 22290.595886600142, 2825.125424391639, 538.2031286342639, 488.2924256233664, 559.9383225906381, 464.81028891162026, 364.1707070043964, 335.06525608009497, 351.35526579897004, 714.5329569424205, 316.1740082254768, 303.2326070376889, 347.30638086594405, 232.73405040975274, 210.84887947438006, 197.69153681683093, 174.6288280463514, 176.95054547123632, 177.7348578614074, 551.3069147993126, 174.7429440303715, 129.0553314281057, 126.00933235464346, 221.94670592032767, 143.42409891601642, 116.37757670339882, 112.05149755918895, 109.21127620691122, 103.5485877498696, 99.98075949948023, 319.50663675880173, 204.75420232783074, 156.27494286648522, 2812.025962225985, 493.5891368816566, 1482.2479104376523, 163.80676231178842, 407.4042149503157, 1371.4583979517447, 216.64355566293915, 1576.175141284821, 497.63348631531767, 599.5784460397467, 445.7140505857074, 206.8386990359342, 223.7970016612268], \"Total\": [22291.0, 2987.0, 2825.0, 6285.0, 5621.0, 1811.0, 1578.0, 1512.0, 1681.0, 5385.0, 1586.0, 9245.0, 3120.0, 1851.0, 1968.0, 2567.0, 1688.0, 1981.0, 12338.0, 2254.0, 4375.0, 2539.0, 9661.0, 1528.0, 1520.0, 1774.0, 2457.0, 1090.0, 1470.0, 1088.0, 2567.0833543189915, 2254.22587621562, 1561.038552740057, 1155.6507197408553, 1069.8170491771994, 850.2750702168883, 779.0104395021855, 713.9307911065652, 690.0466018503814, 691.5530347388546, 684.5070724735414, 684.8367506950943, 599.1620468508297, 572.3393996486154, 557.9096346013035, 557.9926655601075, 523.1889820071385, 484.51243645696525, 480.6773193267255, 714.9918406020437, 446.7160604801888, 433.466300183907, 425.2398499050149, 393.5865055861502, 371.7389391457045, 372.57933020462485, 373.95972207823695, 366.4263021189463, 362.6689163570924, 358.5207243270333, 1301.3324147477806, 5621.308680307265, 761.9972521154933, 735.7300271855731, 6285.49031300446, 2457.7659839836233, 981.8321917870924, 5385.497201054271, 1625.0459940479375, 785.3824281813121, 1138.7971501610054, 1028.336154845046, 1200.2552484340627, 1223.4491707379045, 3366.5360297050734, 2246.4712190579294, 2883.944187863584, 1619.0086032295328, 4605.343827463258, 9661.498174662454, 5782.318302054657, 2836.8138544060757, 1395.5156785899337, 2363.3795866892024, 6064.441262981256, 3196.0654636657855, 3076.145613155705, 1758.4144717493898, 2610.79420309825, 5391.510504795118, 4177.098803476712, 5343.911210191931, 2703.3299570891063, 4478.241630859128, 4593.680448992719, 3222.4579388031325, 2946.2918984484536, 12338.241622241148, 7431.6741212877705, 9245.704180289458, 7337.191046307468, 4214.604924408388, 1968.8827204089123, 1520.1745628676936, 1152.2506723280733, 700.7870962142941, 579.5459895544828, 544.9033977251071, 579.1009713706062, 457.42083380598035, 413.70252600571786, 435.37982442510497, 392.965952723181, 407.30075972007154, 367.4543705481617, 371.42086281252637, 348.9498955866832, 331.7706201001185, 311.3563793889642, 313.0453336754151, 298.1482719301493, 288.1958274568923, 274.4474584852509, 271.179364617421, 272.3953595995091, 264.1794475829813, 312.7082643080112, 250.0477993797177, 249.02073000741458, 245.90686731331405, 244.23555380732293, 259.30977121948104, 246.91260651147905, 458.0700912152797, 765.6798677131123, 840.1120343124952, 677.8256403087241, 660.9702641815575, 370.6921737205323, 1224.068235578933, 716.6524625243152, 889.8684654579147, 9245.704180289458, 1281.0747241896163, 887.5687457601178, 469.6650352873058, 1319.80016244979, 569.2726660483174, 7431.6741212877705, 7337.191046307468, 1257.4657683155424, 12338.241622241148, 960.6311976496722, 915.788958833146, 9661.498174662454, 2838.368764119452, 5391.510504795118, 4375.531770475226, 5026.655588372786, 4461.479110736914, 5343.911210191931, 4478.241630859128, 3355.272217033249, 3401.188490300954, 2618.8992353037015, 4593.680448992719, 5782.318302054657, 3120.7003452510453, 3222.4579388031325, 3569.6711378929526, 4177.098803476712, 2934.9724602869487, 4214.604924408388, 6064.441262981256, 1851.5520881725051, 1688.396353295762, 1115.2386127452385, 977.0075318643459, 806.3932222378554, 801.6366116033262, 776.9055391010345, 755.2802524178012, 760.5210001995785, 691.7554329560691, 688.8293915817794, 665.5098663190869, 662.8103734973591, 605.8369948194227, 576.4830946631388, 571.6773991937268, 534.4386506805544, 512.5820541043234, 500.9854015913059, 507.0315013555328, 645.4037862232408, 467.007870363719, 443.24874060463634, 443.7667078178278, 392.2619003612635, 386.709020226602, 382.42423756365923, 355.8473468846416, 339.9199879725607, 340.1600658123398, 622.6171997121547, 462.953631647494, 1981.2756650478298, 1220.6038271192565, 1470.2708871607022, 1774.9717996585905, 1050.097696213979, 869.8596218510613, 1894.9856312031118, 1109.6375481159348, 2539.1628443308464, 940.806288710764, 1424.0129788989805, 12338.241622241148, 4375.531770475226, 3569.6711378929526, 2277.7530663574385, 5026.655588372786, 4461.479110736914, 2968.4079643981795, 7337.191046307468, 1359.6826310836207, 3355.272217033249, 1080.8435265196176, 1704.534433866891, 9245.704180289458, 3401.188490300954, 7431.6741212877705, 1495.0775008944147, 4214.604924408388, 1604.6380920054248, 1699.1206190827547, 6064.441262981256, 9661.498174662454, 3014.507096945636, 2018.0666646674604, 2838.368764119452, 1681.6034187400458, 1586.1612900801883, 778.5227918547567, 586.4705527802658, 551.5358636872362, 505.50823711633836, 499.7147555878433, 494.07095111196264, 440.9260811863549, 437.64455321682294, 405.3213661700251, 408.7982874521375, 399.45473551971486, 396.1578791739559, 379.7290945509175, 373.9413378632997, 359.9762944458833, 351.52721070258036, 338.9724753398174, 329.9197427771334, 325.89146445672554, 308.41190176186103, 296.85792529754247, 297.8336779887524, 291.7455499873681, 293.94960856815067, 291.0556762665612, 286.38912616830766, 278.7309801667336, 271.74093332866767, 373.5958566891389, 1090.7414889848526, 988.847463197533, 1088.4698954329115, 1528.2247172507903, 668.465201306221, 403.0912540826343, 3120.7003452510453, 1237.0803926381427, 1920.0872581894675, 728.3145554883539, 524.4461097920109, 943.3890228426528, 1009.6857205278416, 2615.538497899526, 5343.911210191931, 12338.241622241148, 22291.41002700397, 2825.951270868907, 539.0176704672754, 489.1096617968883, 560.899137228365, 465.6321290815002, 364.9851725684447, 335.88265252741314, 352.2129341620854, 716.3558513616301, 316.9886797403001, 304.0476113668223, 348.48676219279287, 233.58472372271603, 211.69982278120992, 198.5325517138559, 175.44410403597615, 177.77805538209165, 178.5841517437166, 553.9622125083237, 175.60986865488363, 129.87035536085583, 126.82603806010104, 223.4052370450197, 144.3912200608628, 117.2068935857825, 112.86853155387583, 110.02570741129108, 104.36326003726714, 100.80173040899018, 322.72701743228504, 207.23863839196636, 157.8359918627769, 2987.597963940524, 510.9673815189539, 1578.7443567483667, 165.9964266592076, 424.89534585481107, 1512.0531866927977, 222.50031241208828, 1811.4126248571579, 600.1155091474373, 792.7499200801667, 591.1238703313232, 220.21818024556742, 276.2008428819392], \"Category\": [\"Default\", \"Default\", \"Default\", \"Default\", \"Default\", \"Default\", \"Default\", \"Default\", \"Default\", \"Default\", \"Default\", \"Default\", \"Default\", \"Default\", \"Default\", \"Default\", \"Default\", \"Default\", \"Default\", \"Default\", \"Default\", \"Default\", \"Default\", \"Default\", \"Default\", \"Default\", \"Default\", \"Default\", \"Default\", \"Default\", \"Topic1\", \"Topic1\", \"Topic1\", \"Topic1\", \"Topic1\", \"Topic1\", \"Topic1\", \"Topic1\", \"Topic1\", \"Topic1\", \"Topic1\", \"Topic1\", \"Topic1\", \"Topic1\", \"Topic1\", \"Topic1\", \"Topic1\", \"Topic1\", \"Topic1\", \"Topic1\", \"Topic1\", \"Topic1\", \"Topic1\", \"Topic1\", \"Topic1\", \"Topic1\", \"Topic1\", \"Topic1\", \"Topic1\", \"Topic1\", \"Topic1\", \"Topic1\", \"Topic1\", \"Topic1\", \"Topic1\", \"Topic1\", \"Topic1\", \"Topic1\", \"Topic1\", \"Topic1\", \"Topic1\", \"Topic1\", \"Topic1\", \"Topic1\", \"Topic1\", \"Topic1\", \"Topic1\", \"Topic1\", \"Topic1\", \"Topic1\", \"Topic1\", \"Topic1\", \"Topic1\", \"Topic1\", \"Topic1\", \"Topic1\", \"Topic1\", \"Topic1\", \"Topic1\", \"Topic1\", \"Topic1\", \"Topic1\", \"Topic1\", \"Topic1\", \"Topic1\", \"Topic1\", \"Topic1\", \"Topic1\", \"Topic1\", \"Topic1\", \"Topic1\", \"Topic1\", \"Topic2\", \"Topic2\", \"Topic2\", \"Topic2\", \"Topic2\", \"Topic2\", \"Topic2\", \"Topic2\", \"Topic2\", \"Topic2\", \"Topic2\", \"Topic2\", \"Topic2\", \"Topic2\", \"Topic2\", \"Topic2\", \"Topic2\", \"Topic2\", \"Topic2\", \"Topic2\", \"Topic2\", \"Topic2\", \"Topic2\", \"Topic2\", \"Topic2\", \"Topic2\", \"Topic2\", \"Topic2\", \"Topic2\", \"Topic2\", \"Topic2\", \"Topic2\", \"Topic2\", \"Topic2\", \"Topic2\", \"Topic2\", \"Topic2\", \"Topic2\", \"Topic2\", \"Topic2\", \"Topic2\", \"Topic2\", \"Topic2\", \"Topic2\", \"Topic2\", \"Topic2\", \"Topic2\", \"Topic2\", \"Topic2\", \"Topic2\", \"Topic2\", \"Topic2\", \"Topic2\", \"Topic2\", \"Topic2\", \"Topic2\", \"Topic2\", \"Topic2\", \"Topic2\", \"Topic2\", \"Topic2\", \"Topic2\", \"Topic2\", \"Topic2\", \"Topic2\", \"Topic2\", \"Topic2\", \"Topic2\", \"Topic2\", \"Topic2\", \"Topic2\", \"Topic2\", \"Topic3\", \"Topic3\", \"Topic3\", \"Topic3\", \"Topic3\", \"Topic3\", \"Topic3\", \"Topic3\", \"Topic3\", \"Topic3\", \"Topic3\", \"Topic3\", \"Topic3\", \"Topic3\", \"Topic3\", \"Topic3\", \"Topic3\", \"Topic3\", \"Topic3\", \"Topic3\", \"Topic3\", \"Topic3\", \"Topic3\", \"Topic3\", \"Topic3\", \"Topic3\", \"Topic3\", \"Topic3\", \"Topic3\", \"Topic3\", \"Topic3\", \"Topic3\", \"Topic3\", \"Topic3\", \"Topic3\", \"Topic3\", \"Topic3\", \"Topic3\", \"Topic3\", \"Topic3\", \"Topic3\", \"Topic3\", \"Topic3\", \"Topic3\", \"Topic3\", \"Topic3\", \"Topic3\", \"Topic3\", \"Topic3\", \"Topic3\", \"Topic3\", \"Topic3\", \"Topic3\", \"Topic3\", \"Topic3\", \"Topic3\", \"Topic3\", \"Topic3\", \"Topic3\", \"Topic3\", \"Topic3\", \"Topic3\", \"Topic3\", \"Topic3\", \"Topic3\", \"Topic3\", \"Topic3\", \"Topic4\", \"Topic4\", \"Topic4\", \"Topic4\", \"Topic4\", \"Topic4\", \"Topic4\", \"Topic4\", \"Topic4\", \"Topic4\", \"Topic4\", \"Topic4\", \"Topic4\", \"Topic4\", \"Topic4\", \"Topic4\", \"Topic4\", \"Topic4\", \"Topic4\", \"Topic4\", \"Topic4\", \"Topic4\", \"Topic4\", \"Topic4\", \"Topic4\", \"Topic4\", \"Topic4\", \"Topic4\", \"Topic4\", \"Topic4\", \"Topic4\", \"Topic4\", \"Topic4\", \"Topic4\", \"Topic4\", \"Topic4\", \"Topic4\", \"Topic4\", \"Topic4\", \"Topic4\", \"Topic4\", \"Topic4\", \"Topic4\", \"Topic4\", \"Topic4\", \"Topic4\", \"Topic4\", \"Topic5\", \"Topic5\", \"Topic5\", \"Topic5\", \"Topic5\", \"Topic5\", \"Topic5\", \"Topic5\", \"Topic5\", \"Topic5\", \"Topic5\", \"Topic5\", \"Topic5\", \"Topic5\", \"Topic5\", \"Topic5\", \"Topic5\", \"Topic5\", \"Topic5\", \"Topic5\", \"Topic5\", \"Topic5\", \"Topic5\", \"Topic5\", \"Topic5\", \"Topic5\", \"Topic5\", \"Topic5\", \"Topic5\", \"Topic5\", \"Topic5\", \"Topic5\", \"Topic5\", \"Topic5\", \"Topic5\", \"Topic5\", \"Topic5\", \"Topic5\", \"Topic5\", \"Topic5\", \"Topic5\", \"Topic5\", \"Topic5\", \"Topic5\", \"Topic5\", \"Topic5\"], \"logprob\": [30.0, 29.0, 28.0, 27.0, 26.0, 25.0, 24.0, 23.0, 22.0, 21.0, 20.0, 19.0, 18.0, 17.0, 16.0, 15.0, 14.0, 13.0, 12.0, 11.0, 10.0, 9.0, 8.0, 7.0, 6.0, 5.0, 4.0, 3.0, 2.0, 1.0, -5.2012, -5.3313, -5.6989, -5.9998, -6.077, -6.3069, -6.3945, -6.4819, -6.5159, -6.5137, -6.524, -6.5235, -6.6573, -6.7032, -6.7288, -6.7286, -6.7932, -6.8701, -6.878, -6.4811, -6.9515, -6.9816, -7.0009, -7.0783, -7.1356, -7.1333, -7.1296, -7.15, -7.1603, -7.1719, -5.8897, -4.4528, -6.4259, -6.461, -4.3735, -5.2955, -6.1958, -4.574, -5.7155, -6.4158, -6.0856, -6.1818, -6.0434, -6.0294, -5.1557, -5.5148, -5.3175, -5.8142, -4.9716, -4.3809, -4.806, -5.3772, -5.9476, -5.53, -4.7933, -5.3019, -5.3726, -5.787, -5.5044, -5.0088, -5.1877, -5.0454, -5.5098, -5.1985, -5.1825, -5.4256, -5.5316, -4.8328, -5.1889, -5.1443, -5.3447, -5.5285, -5.0762, -5.335, -5.6123, -6.11, -6.3002, -6.362, -6.3012, -6.5373, -6.6379, -6.5869, -6.6895, -6.6537, -6.7568, -6.746, -6.8085, -6.8591, -6.9229, -6.9175, -6.9663, -7.0003, -7.0494, -7.0615, -7.057, -7.0876, -6.919, -7.1428, -7.1469, -7.1595, -7.1664, -7.1065, -7.1556, -6.5612, -6.0726, -6.0196, -6.2539, -6.3001, -6.8001, -5.8235, -6.2779, -6.1062, -4.2772, -5.8521, -6.1352, -6.6274, -5.8998, -6.4943, -4.7568, -4.8584, -5.992, -4.5607, -6.1675, -6.2034, -4.8706, -5.576, -5.2535, -5.367, -5.3104, -5.3751, -5.2945, -5.4469, -5.6067, -5.618, -5.7453, -5.539, -5.467, -5.6976, -5.7187, -5.7148, -5.745, -5.8397, -5.7918, -5.8462, -5.0367, -5.129, -5.5439, -5.6764, -5.8685, -5.8744, -5.9058, -5.934, -5.9271, -6.022, -6.0263, -6.0607, -6.0648, -6.1548, -6.2045, -6.2129, -6.2804, -6.3222, -6.3451, -6.3331, -6.0919, -6.4155, -6.4678, -6.4666, -6.5902, -6.6045, -6.6157, -6.6879, -6.7338, -6.7331, -6.1373, -6.4328, -5.027, -5.4985, -5.3206, -5.1908, -5.6759, -5.879, -5.225, -5.6808, -5.0337, -5.8693, -5.5953, -4.0796, -4.847, -5.0409, -5.3512, -4.8765, -4.9599, -5.2057, -4.7516, -5.6755, -5.2502, -5.8064, -5.6073, -4.8854, -5.3308, -5.0346, -5.6667, -5.4214, -5.6894, -5.6751, -5.3947, -5.305, -5.639, -5.664, -5.6642, -4.5585, -4.617, -5.3292, -5.6128, -5.6744, -5.7616, -5.7732, -5.7846, -5.8986, -5.9061, -5.9829, -5.9744, -5.9976, -6.0059, -6.0483, -6.0637, -6.1019, -6.1257, -6.1622, -6.1892, -6.2016, -6.2569, -6.2951, -6.2919, -6.3126, -6.3051, -6.315, -6.3311, -6.3584, -6.3838, -6.0689, -5.164, -5.3086, -5.2544, -5.0784, -5.7372, -6.09, -4.7911, -5.529, -5.4485, -5.8796, -6.0154, -5.8245, -5.8091, -5.576, -5.4802, -5.7528, -1.5103, -3.5759, -5.234, -5.3313, -5.1944, -5.3806, -5.6246, -5.7079, -5.6604, -4.9506, -5.7659, -5.8077, -5.672, -6.0723, -6.1711, -6.2355, -6.3595, -6.3463, -6.3419, -5.2099, -6.3589, -6.662, -6.6858, -6.1198, -6.5564, -6.7654, -6.8032, -6.8289, -6.8822, -6.9172, -5.7554, -6.2004, -6.4706, -3.5805, -5.3205, -4.2209, -6.4235, -5.5124, -4.2986, -6.1439, -4.1594, -5.3123, -5.126, -5.4225, -6.1903, -6.1115], \"loglift\": [30.0, 29.0, 28.0, 27.0, 26.0, 25.0, 24.0, 23.0, 22.0, 21.0, 20.0, 19.0, 18.0, 17.0, 16.0, 15.0, 14.0, 13.0, 12.0, 11.0, 10.0, 9.0, 8.0, 7.0, 6.0, 5.0, 4.0, 3.0, 2.0, 1.0, 1.0468, 1.0468, 1.0466, 1.0464, 1.0464, 1.0462, 1.0461, 1.046, 1.0459, 1.0459, 1.0459, 1.0459, 1.0458, 1.0457, 1.0456, 1.0456, 1.0455, 1.0454, 1.0454, 1.0452, 1.0452, 1.0452, 1.0451, 1.045, 1.0449, 1.0449, 1.0448, 1.0448, 1.0448, 1.0447, 1.0378, 1.0115, 1.0368, 1.0367, 0.9791, 0.9961, 1.0134, 0.9331, 0.9899, 1.0166, 0.9753, 0.9811, 0.9649, 0.9598, 0.8212, 0.8667, 0.8142, 0.8948, 0.692, 0.5418, 0.63, 0.771, 0.9101, 0.8008, 0.5952, 0.7271, 0.6946, 0.8395, 0.7268, 0.4972, 0.5736, 0.4695, 0.6866, 0.4932, 0.4837, 0.5951, 0.5787, -0.1547, -0.0038, -0.1776, -0.1468, 0.2238, 1.4372, 1.4371, 1.4369, 1.4364, 1.4361, 1.4361, 1.436, 1.4357, 1.4355, 1.4355, 1.4354, 1.4353, 1.4352, 1.4352, 1.4352, 1.435, 1.4348, 1.4348, 1.4347, 1.4346, 1.4345, 1.4344, 1.4344, 1.4344, 1.4343, 1.4342, 1.4342, 1.4341, 1.4341, 1.4341, 1.434, 1.4104, 1.3853, 1.3455, 1.3259, 1.3048, 1.3831, 1.1652, 1.2462, 1.2013, 0.6895, 1.091, 1.175, 1.3192, 1.0136, 1.2599, 0.4284, 0.3395, 0.9697, 0.1175, 1.0635, 1.0755, 0.0521, 0.5717, 0.2526, 0.3479, 0.2657, 0.3203, 0.2204, 0.2447, 0.3737, 0.3487, 0.4828, 0.1272, -0.031, 0.3552, 0.3021, 0.2036, 0.0162, 0.2744, -0.0395, -0.4578, 1.5381, 1.5381, 1.5379, 1.5377, 1.5376, 1.5376, 1.5375, 1.5375, 1.5375, 1.5374, 1.5374, 1.5373, 1.5373, 1.5372, 1.5372, 1.5371, 1.537, 1.537, 1.5369, 1.5369, 1.5369, 1.5368, 1.5367, 1.5367, 1.5365, 1.5364, 1.5364, 1.5362, 1.5361, 1.5361, 1.5274, 1.5282, 1.4801, 1.493, 1.4848, 1.4263, 1.4661, 1.4513, 1.3266, 1.4061, 1.2254, 1.3826, 1.2421, 0.5986, 0.8679, 0.8775, 1.0165, 0.6996, 0.7355, 0.8972, 0.4463, 1.2081, 0.7302, 1.3068, 1.0503, 0.0814, 0.636, 0.1505, 1.122, 0.3309, 1.0285, 0.9857, -0.0062, -0.3822, 0.4484, 0.8247, 0.4835, 2.1126, 2.1126, 2.112, 2.1117, 2.1116, 2.1114, 2.1114, 2.1114, 2.1112, 2.1111, 2.111, 2.111, 2.111, 2.1109, 2.1109, 2.1108, 2.1107, 2.1107, 2.1106, 2.1105, 2.1105, 2.1103, 2.1102, 2.1102, 2.1102, 2.1102, 2.1101, 2.1101, 2.11, 2.1099, 2.1066, 1.94, 1.8935, 1.8517, 1.6884, 1.8565, 2.0095, 1.2617, 1.4492, 1.09, 1.6282, 1.8208, 1.4247, 1.3721, 0.6534, 0.0347, -1.0746, 2.5764, 2.5761, 2.5749, 2.5748, 2.5747, 2.5747, 2.5742, 2.574, 2.574, 2.5739, 2.5738, 2.5737, 2.573, 2.5728, 2.5724, 2.5722, 2.5718, 2.5718, 2.5717, 2.5716, 2.5715, 2.5701, 2.57, 2.5699, 2.5697, 2.5693, 2.5692, 2.569, 2.5686, 2.5682, 2.5664, 2.5644, 2.5665, 2.5159, 2.5418, 2.5134, 2.5631, 2.5344, 2.4788, 2.5497, 2.4373, 2.3892, 2.2971, 2.2941, 2.5137, 2.366]}, \"token.table\": {\"Topic\": [3, 5, 3, 5, 5, 5, 5, 5, 5, 5, 5, 1, 2, 3, 5, 5, 1, 2, 1, 2, 3, 4, 3, 4, 1, 4, 1, 2, 3, 1, 2, 4, 2, 3, 5, 4, 1, 1, 2, 4, 2, 3, 4, 1, 2, 3, 2, 5, 5, 2, 3, 4, 1, 2, 3, 1, 4, 2, 1, 1, 2, 2, 4, 4, 1, 2, 2, 3, 1, 2, 3, 1, 2, 3, 4, 2, 3, 2, 3, 1, 3, 2, 1, 3, 4, 2, 3, 3, 4, 4, 5, 2, 2, 1, 4, 2, 3, 3, 2, 3, 4, 2, 5, 1, 2, 3, 2, 2, 3, 4, 2, 3, 3, 2, 2, 2, 3, 1, 2, 3, 4, 1, 1, 2, 1, 3, 1, 2, 4, 2, 1, 1, 4, 3, 4, 1, 2, 3, 4, 1, 2, 4, 3, 1, 2, 5, 5, 4, 1, 2, 3, 4, 1, 2, 3, 4, 1, 2, 3, 4, 1, 2, 3, 2, 4, 3, 1, 4, 2, 5, 2, 2, 1, 2, 3, 4, 1, 2, 3, 4, 4, 1, 2, 3, 4, 1, 3, 1, 2, 3, 4, 1, 1, 2, 3, 1, 2, 3, 4, 2, 3, 4, 2, 1, 5, 1, 2, 5, 2, 1, 4, 1, 2, 3, 4, 5, 4, 2, 3, 1, 4, 4, 1, 1, 2, 1, 2, 3, 4, 5, 1, 2, 3, 1, 2, 3, 3, 5, 3, 5, 5, 5, 5, 2, 3, 2, 3, 1, 2, 3, 4, 1, 2, 4, 3, 1, 2, 3, 4, 2, 1, 2, 3, 5, 5, 1, 2, 3, 3, 4, 3, 1, 2, 4, 3, 3, 2, 2, 5, 1, 2, 3, 2, 3, 5, 1, 1, 2, 3, 5, 1, 2, 3, 1, 2, 3, 4, 4, 1, 2, 3, 4, 5, 5, 3, 5, 3, 1, 2, 3, 4, 5, 3, 5, 1, 2, 3, 5, 2, 1, 2, 4, 3, 5, 4, 1, 2, 4, 1, 2, 3, 1, 2, 4, 4, 4, 1, 2, 3, 4, 3, 1, 2, 4, 3, 2, 4, 1, 2, 3, 2, 2, 3, 4, 1, 4, 1, 2, 4, 2, 4, 5, 1, 3, 5, 1, 2, 1, 1, 2, 1, 1, 2, 3, 4, 1, 1, 1, 2, 3, 4, 2, 5, 1, 2, 3, 4, 5, 5, 3, 1, 2, 4, 4, 3, 3, 4, 2, 1, 2, 3, 2, 3, 4, 2, 1, 2, 3, 4, 1, 2, 3, 1, 2, 3, 4, 1, 3, 4, 1, 1, 2, 4, 1, 5, 1, 2, 3, 5, 1, 2, 3, 4, 2, 3, 4, 2, 4, 2, 3, 1, 2, 3, 4, 1, 2, 3, 3, 1, 1, 2, 3, 1, 2, 3, 1, 2, 3, 4, 4, 1, 2, 3, 1, 1, 2, 3, 5, 4, 1, 2, 3, 3, 5, 2, 1, 3, 3, 4, 4, 1, 2, 3, 4, 1, 2, 3, 4, 1, 3, 4, 3, 4, 1, 3, 1, 2, 3, 1, 2, 3, 1, 2, 4, 5], \"Freq\": [0.004825355000203308, 0.989197775041678, 0.00602422606393215, 0.9879730744848726, 0.9981119905282638, 0.9974686864604747, 0.9932982753574712, 0.9973007874223714, 0.9934868417184995, 0.9973721401782097, 0.9968810250854697, 0.0789439126335318, 0.03201920931989402, 0.018769881325455116, 0.8700392049681548, 0.9966942684598599, 0.9665602818264366, 0.03259212752207163, 0.4389498026934726, 0.22825389740060578, 0.2989604061587976, 0.033929633397387346, 0.9989079479248311, 0.9971099801472958, 0.998696244624605, 0.9967399543169634, 0.5770182580991225, 0.30566573106633044, 0.11722132404970924, 0.9980605466301856, 0.22589059191852762, 0.7734134835886012, 0.20632033641175948, 0.7928992300667169, 0.9999816060534765, 0.9974445197625108, 0.9984832881611547, 0.9995779824144905, 0.9990579012462798, 0.9985272221210448, 0.973650121571445, 0.02619686425752767, 0.9973774706841114, 0.9970843515599682, 0.7613954622057513, 0.23773184495909186, 0.16996727870757378, 0.8298402431016837, 0.9956234453098308, 0.9992273500054639, 0.94744445541602, 0.05169115478220927, 0.9976597808058685, 0.8759849442197575, 0.12406004391367896, 0.9308066847990751, 0.06849332208898855, 0.9989145831214432, 0.998500402679614, 0.998369566422789, 0.9949411386341497, 0.09675228525798017, 0.900540501247354, 0.9972008605796961, 0.9993347039775321, 0.9975418920736336, 0.9976772503246794, 0.9987959404869835, 0.29386620499845345, 0.47330088813884147, 0.23286490223101594, 0.7978527413043335, 0.10396443017740757, 0.08138929676745621, 0.016931350057463518, 0.8260628839741329, 0.17302668515674405, 0.25631788853652937, 0.7436729971511906, 0.9989423667621156, 0.9967830157348921, 0.9968307570822168, 0.07472470082204759, 0.9162397931564911, 0.009196886255021242, 0.9117831535729104, 0.08689317259898494, 0.998834428311475, 0.9970772279567676, 0.9972733834406482, 0.9965562475297196, 0.9958506427124759, 0.9956509794943842, 0.9986127945163563, 0.0013986173592666054, 0.9987634640255227, 0.9992338711341623, 0.9988150673882119, 0.1944909078274067, 0.05910998179068242, 0.74745525361121, 0.24360376433333408, 0.7544949923101875, 0.3419415864152389, 0.08239556299162383, 0.5750033217344035, 0.9955354302018107, 0.25835286675868074, 0.7309495742440724, 0.010239595328850153, 0.12346373843658565, 0.8759617062800091, 0.9983049306350816, 0.9972778453333933, 0.9983420956285488, 0.9983018571037003, 0.9992058601190221, 0.792317691034347, 0.1979927359214933, 0.009362178406095129, 0.0006934946967477873, 0.9994561874972007, 0.9981555729567024, 0.9959010239533705, 0.9895048806366545, 0.009186384833496793, 0.9445886489503994, 0.04615253985099671, 0.009230507970199342, 0.9988668842957839, 0.9992362720543407, 0.00535337842802726, 0.9930516983990568, 0.9997018241204059, 0.9986412676573517, 0.39724133322235367, 0.24239750265926102, 0.12808069935465685, 0.2324569110675563, 0.3144245824476891, 0.07002468866738928, 0.6151188337841255, 0.9982722727858563, 0.018409438172014674, 0.040166046920759285, 0.9412243661764592, 0.9903649262034327, 0.9992678612903675, 0.34958475810425, 0.36452082744588654, 0.24960728494356574, 0.03633097947965647, 0.6258714559039682, 0.1632560576408941, 0.15171612841056062, 0.05905728488464776, 0.5611994440102773, 0.2960378527590059, 0.017590112616527532, 0.1251892057495417, 0.5745558663627498, 0.30324402118951194, 0.12192285388031923, 0.34549892698362383, 0.6536996743496974, 0.9991619968259068, 0.2296802153637596, 0.7698880818993222, 0.03327022548770933, 0.966793611231083, 0.994949009390115, 0.9985485817376244, 0.2774933107040235, 0.20911103056624628, 0.48957748388495576, 0.023785140917487728, 0.14699195038732274, 0.654644562549726, 0.12577661734172976, 0.07273828472774733, 0.999197653184742, 0.16295044355366703, 0.32724573258370543, 0.4478335436316736, 0.06186289191308404, 0.9982210060787966, 0.9995123691184257, 0.15077430815930903, 0.10149398953914578, 0.6136573009129854, 0.13434753528592128, 0.9989242527418876, 0.036139214212302914, 0.10841764263690874, 0.8556490423795249, 0.07727599177521008, 0.25924848853618865, 0.6007585167040526, 0.06294254168787272, 0.008640174148251878, 0.98929993997484, 0.9978323940932929, 0.9968063901452933, 0.004476170806141326, 0.9937099189633745, 0.9974336218004886, 0.05903236501865366, 0.9399768891431775, 0.9995516643019098, 0.49714379608402987, 0.5024438365540089, 0.6363323235656059, 0.1502199395616136, 0.21337497452549728, 0.04000985222796248, 0.9578829327518076, 0.9971311082445781, 0.9468772876349464, 0.051255465712432995, 0.8720790591401232, 0.12755141538779124, 0.9978996906151181, 0.9994369235187244, 0.16160972673891114, 0.8379113005919632, 0.30061009611888995, 0.26713693092689705, 0.3906553419501347, 0.04125385250054327, 0.0004052441306536667, 0.3669540394579045, 0.31243904752358254, 0.32061629631373084, 0.9992003003225002, 0.9494829767058666, 0.049629096444048046, 0.006335690536727536, 0.9883677237294957, 0.24345634747018696, 0.7568591113062807, 0.9906775658577968, 0.9920464618440848, 0.9897028788251334, 0.06951734135137533, 0.9303896232916944, 0.10591717571860079, 0.8935353228175577, 0.6589052696469815, 0.2301844918373051, 0.10722342970633296, 0.0036317613287628905, 0.858550101109583, 0.022235829956794954, 0.11859109310290641, 0.9965896472604172, 0.7585975359848027, 0.1251403927855971, 0.10575244460754685, 0.010222736312062863, 0.99836960237227, 0.9702279713139774, 0.029285096247009815, 0.9893719612705625, 0.009636739882505478, 0.996728983294358, 0.834642342218073, 0.13932962832760365, 0.02537312720342942, 0.9993149430463567, 0.9988616093908032, 0.9988644664797317, 0.2456718047231958, 0.6880892496696289, 0.06558188007441244, 0.998033073242901, 0.9972935161063993, 0.9963121513310216, 0.9966607594397207, 0.9974967381710709, 0.5009738375244718, 0.3848945337078259, 0.11417010474071423, 0.06879052142545945, 0.11947827405474537, 0.8110040420685747, 0.9988365951994136, 0.20922296451425107, 0.3451284799252176, 0.44556742442849767, 0.9965271390522923, 0.8126639213668061, 0.16776477033114612, 0.019904294785051235, 0.1592463973370367, 0.42066415579739336, 0.34808725789600053, 0.07187226782468027, 0.9972122226775779, 0.20868746257978243, 0.30974869326665516, 0.43209644301552663, 0.04933697876052053, 0.9983969716323544, 0.9923049273174849, 0.0036103545600052072, 0.9946526812814346, 0.9976187910572893, 0.3029769820589246, 0.33350637656238796, 0.33541446371885447, 0.027122096009773278, 0.0008177516384856265, 0.06080781830804116, 0.9387206951303855, 0.0030985940004537153, 0.0030985940004537153, 0.0061971880009074306, 0.9915500801451889, 0.9988768397441304, 0.08224715026156365, 0.7695178579266846, 0.14872087444556714, 0.9978249488874935, 0.0015494176224961078, 0.9986644427160302, 0.9648998673567808, 0.00978419850748948, 0.02508312708283667, 0.9206375072649428, 0.07831667482615802, 0.997965606963719, 0.1035992498141503, 0.055008451228752364, 0.840712496279432, 0.9993284822740883, 0.9972645357305947, 0.7258327744680866, 0.05094235303654645, 0.16546689106607568, 0.05783680683096627, 0.9988906624581069, 0.2185664853992984, 0.7072186991848727, 0.07337589152690732, 0.9978418557209024, 0.8878668171347069, 0.11071720501439991, 0.2873594230410774, 0.18595826672763746, 0.5265448748103213, 0.996303929052579, 0.052491433592351394, 0.943331628693315, 0.00403780258402703, 0.9894933917334553, 0.009514359535898608, 0.1844980641586603, 0.6266572179182083, 0.189269565817936, 0.9961486547524974, 0.0013959542566717737, 0.9981072935203182, 0.06547388734157916, 0.02711544829297723, 0.9067141368212629, 0.10474670147866075, 0.8940352267051889, 0.9983970567804993, 0.9500497668274176, 0.04963857454087578, 0.9987029191767556, 0.998590906415817, 0.3446617030674389, 0.1782732946900546, 0.4763858596995348, 0.9980122094623646, 0.9985475753793293, 0.6972881704864957, 0.221578575130722, 0.00924785371998005, 0.07213325901584439, 0.9980988265863198, 0.996554449607044, 0.1931728274231429, 0.15805049516438963, 0.5931283860196955, 0.055317673307536376, 0.9965192728059911, 0.9986424281272276, 0.9989687573212221, 0.9342151061550499, 0.05997940991492742, 0.005727476808852486, 0.9980799613161594, 0.9986184488128327, 0.9971827543087141, 0.9990284155165292, 0.9956436434942296, 0.7011420039355925, 0.16589423691755734, 0.13288910077689148, 0.6966670583284916, 0.2336782922920019, 0.06988509676022488, 0.9977350636716349, 0.17724833651865304, 0.028092189184088404, 0.6594975841788373, 0.13511005274252041, 0.9905232401744402, 0.008452874819176759, 0.9991792309931257, 0.2632967369118235, 0.008090123201201279, 0.7185500334157864, 0.009561054692328786, 0.9985098432547204, 0.9988893742280053, 0.9985696728386527, 0.9987781749530161, 0.4791448909814168, 0.16093018621006283, 0.3593586682360626, 0.9977274330155479, 0.9973175597187536, 0.19245470337794512, 0.29106322679721247, 0.516294058698039, 0.999663380300038, 0.6361603592447198, 0.3211834008869683, 0.003413543391069228, 0.039100587934065706, 0.459145584539343, 0.025867356875455945, 0.5149220728020449, 0.999079985486278, 0.9996411646567073, 0.7900043964792542, 0.21014341698665795, 0.7815079771368486, 0.10451135373730461, 0.11382005730904834, 0.9963729404624483, 0.11398503315450643, 0.07704543907665713, 0.8089771103048998, 0.9981665278296676, 0.9984450822746751, 0.7262054004794654, 0.21401313827141505, 0.059760978669357125, 0.8922110291059789, 0.10324023562599881, 0.004456413048604265, 0.5692603194837823, 0.2697183693462357, 0.10928056611122705, 0.05159261786526058, 0.9980472338641316, 0.9162620130134921, 0.023703477589109075, 0.05966737462086077, 0.9992592151433746, 0.5569733113918356, 0.10681679944500956, 0.3360416703037102, 0.995733662353664, 0.9967694851754481, 0.15221007066934536, 0.3364162522902048, 0.5112521442752637, 0.0224718785596112, 0.975279529487126, 0.9958096036745097, 0.04424039872744397, 0.9552649058555496, 0.9987773675099816, 0.998500227901201, 0.9989946017116603, 0.7028275874697892, 0.1518133595505974, 0.14531171674329132, 0.9974826589949148, 0.6226809856245481, 0.24131581449809478, 0.12137610907791077, 0.014603437186888672, 0.03741729779065919, 0.15877069603063496, 0.802954985021173, 0.9997652486662931, 0.9972878923947308, 0.936464205272554, 0.06320890274425339, 0.25785104309887824, 0.33664702890332454, 0.4054465090460127, 0.6033225794408069, 0.2501682406087546, 0.14645761707132302, 0.23424229151395648, 0.3387060220660082, 0.42682726716359787, 0.9977312617526065], \"Term\": [\"0el\", \"0el\", \"2ei\", \"2ei\", \"34u\", \"3dy\", \"4u\", \"6ei\", \"6ql\", \"6um\", \"75u_75u\", \"_\", \"_\", \"_\", \"_\", \"a85\", \"agree\", \"agree\", \"also\", \"also\", \"also\", \"also\", \"application\", \"arab\", \"argument\", \"armenian\", \"article\", \"article\", \"article\", \"atheist\", \"attack\", \"attack\", \"available\", \"available\", \"ax\", \"baseball\", \"belief\", \"believe\", \"bike\", \"black\", \"block\", \"block\", \"bomb\", \"brain\", \"buy\", \"buy\", \"c\", \"c\", \"c4\", \"car\", \"card\", \"card\", \"certainly\", \"cheap\", \"cheap\", \"child\", \"child\", \"chip\", \"christian\", \"church\", \"circuit\", \"city\", \"city\", \"civilian\", \"claim\", \"clipper\", \"clipper_chip\", \"color\", \"com\", \"com\", \"com\", \"come\", \"come\", \"come\", \"come\", \"company\", \"company\", \"computer\", \"computer\", \"conclusion\", \"controller\", \"cool\", \"copy\", \"copy\", \"copy\", \"cost\", \"cost\", \"cpu\", \"crime\", \"criminal\", \"cx\", \"dealer\", \"diagnosis\", \"die\", \"die\", \"disease\", \"disk\", \"display\", \"division\", \"division\", \"division\", \"dn\", \"dn\", \"do\", \"do\", \"do\", \"doctor\", \"drive\", \"drive\", \"drive\", \"driver\", \"driver\", \"email\", \"encrypt\", \"encryption\", \"engine\", \"entry\", \"even\", \"even\", \"even\", \"even\", \"evidence\", \"existence\", \"expensive\", \"explain\", \"explain\", \"fact\", \"fact\", \"fact\", \"factory\", \"faith\", \"fan\", \"fan\", \"file\", \"firearm\", \"first\", \"first\", \"first\", \"first\", \"force\", \"force\", \"force\", \"format\", \"g\", \"g\", \"g\", \"g6\", \"game\", \"get\", \"get\", \"get\", \"get\", \"give\", \"give\", \"give\", \"give\", \"go\", \"go\", \"go\", \"go\", \"good\", \"good\", \"good\", \"government\", \"government\", \"graphic\", \"gun\", \"gun\", \"h\", \"h\", \"headache\", \"health\", \"help\", \"help\", \"help\", \"help\", \"high\", \"high\", \"high\", \"high\", \"hockey\", \"host\", \"host\", \"host\", \"host\", \"human\", \"image\", \"include\", \"include\", \"include\", \"include\", \"indeed\", \"info\", \"info\", \"info\", \"information\", \"information\", \"information\", \"information\", \"input\", \"input\", \"israeli\", \"item\", \"j\", \"j\", \"judge\", \"k\", \"k\", \"key\", \"kill\", \"kill\", \"know\", \"know\", \"know\", \"l\", \"l\", \"land\", \"launch\", \"launch\", \"law\", \"law\", \"lebanese\", \"life\", \"light\", \"light\", \"line\", \"line\", \"line\", \"line\", \"line\", \"look\", \"look\", \"look\", \"love\", \"low\", \"low\", \"lw\", \"lw\", \"m\", \"m\", \"m0\", \"m45\", \"m6\", \"machine\", \"machine\", \"mail\", \"mail\", \"make\", \"make\", \"make\", \"make\", \"man\", \"man\", \"man\", \"manual\", \"many\", \"many\", \"many\", \"many\", \"market\", \"matter\", \"matter\", \"mb\", \"mb\", \"mc\", \"mean\", \"mean\", \"mean\", \"memory\", \"military\", \"mode\", \"money\", \"money\", \"money\", \"monitor\", \"motif\", \"motorcycle\", \"mount\", \"mu\", \"much\", \"much\", \"much\", \"n\", \"n\", \"n\", \"nature\", \"need\", \"need\", \"need\", \"nei\", \"never\", \"never\", \"never\", \"new\", \"new\", \"new\", \"new\", \"nhl\", \"nntp_poste\", \"nntp_poste\", \"nntp_poste\", \"nntp_poste\", \"o\", \"o1\", \"o__o\", \"o__o\", \"orbit\", \"organization\", \"organization\", \"organization\", \"organization\", \"organization\", \"p\", \"p\", \"p45\", \"p45\", \"p45\", \"p45\", \"patient\", \"pay\", \"pay\", \"pay\", \"pc\", \"pc\", \"pen\", \"people\", \"people\", \"people\", \"person\", \"person\", \"pin\", \"play\", \"play\", \"play\", \"player\", \"playoff\", \"point\", \"point\", \"point\", \"point\", \"port\", \"power\", \"power\", \"power\", \"print\", \"private\", \"private\", \"problem\", \"problem\", \"problem\", \"processor\", \"program\", \"program\", \"program\", \"prove\", \"prove\", \"public\", \"public\", \"public\", \"pull\", \"q\", \"q\", \"r\", \"r\", \"r\", \"rate\", \"rate\", \"reality\", \"reason\", \"reason\", \"religion\", \"religious\", \"report\", \"report\", \"report\", \"revelation\", \"ride\", \"right\", \"right\", \"right\", \"right\", \"ripem\", \"rlk\", \"run\", \"run\", \"run\", \"run\", \"rz\", \"s0\", \"sale\", \"say\", \"say\", \"say\", \"score\", \"screen\", \"scsi\", \"season\", \"secure\", \"see\", \"see\", \"see\", \"sell\", \"sell\", \"sell\", \"seller\", \"send\", \"send\", \"send\", \"send\", \"sense\", \"sense\", \"server\", \"set\", \"set\", \"set\", \"set\", \"sin\", \"software\", \"soldier\", \"speak\", \"state\", \"state\", \"state\", \"statement\", \"sy\", \"system\", \"system\", \"system\", \"t\", \"take\", \"take\", \"take\", \"take\", \"talk\", \"talk\", \"talk\", \"tape\", \"team\", \"technology\", \"technology\", \"tell\", \"tell\", \"tell\", \"terrorist\", \"thank\", \"thank\", \"thank\", \"thanks_advance\", \"therefore\", \"thing\", \"thing\", \"thing\", \"think\", \"think\", \"think\", \"time\", \"time\", \"time\", \"time\", \"trade\", \"true\", \"true\", \"true\", \"truth\", \"try\", \"try\", \"try\", \"u\", \"united_state\", \"use\", \"use\", \"use\", \"v\", \"v\", \"vehicle\", \"version\", \"version\", \"video\", \"village\", \"war\", \"way\", \"way\", \"way\", \"weapon\", \"well\", \"well\", \"well\", \"well\", \"win\", \"win\", \"win\", \"window\", \"wing\", \"word\", \"word\", \"work\", \"work\", \"work\", \"write\", \"write\", \"write\", \"year\", \"year\", \"year\", \"z\"]}, \"R\": 30, \"lambda.step\": 0.01, \"plot.opts\": {\"xlab\": \"PC1\", \"ylab\": \"PC2\"}, \"topic.order\": [2, 4, 5, 1, 3]};\n",
              "\n",
              "function LDAvis_load_lib(url, callback){\n",
              "  var s = document.createElement('script');\n",
              "  s.src = url;\n",
              "  s.async = true;\n",
              "  s.onreadystatechange = s.onload = callback;\n",
              "  s.onerror = function(){console.warn(\"failed to load library \" + url);};\n",
              "  document.getElementsByTagName(\"head\")[0].appendChild(s);\n",
              "}\n",
              "\n",
              "if(typeof(LDAvis) !== \"undefined\"){\n",
              "   // already loaded: just create the visualization\n",
              "   !function(LDAvis){\n",
              "       new LDAvis(\"#\" + \"ldavis_el102139790431880800319043010\", ldavis_el102139790431880800319043010_data);\n",
              "   }(LDAvis);\n",
              "}else if(typeof define === \"function\" && define.amd){\n",
              "   // require.js is available: use it to load d3/LDAvis\n",
              "   require.config({paths: {d3: \"https://d3js.org/d3.v5\"}});\n",
              "   require([\"d3\"], function(d3){\n",
              "      window.d3 = d3;\n",
              "      LDAvis_load_lib(\"https://cdn.jsdelivr.net/gh/bmabey/pyLDAvis@3.3.1/pyLDAvis/js/ldavis.v3.0.0.js\", function(){\n",
              "        new LDAvis(\"#\" + \"ldavis_el102139790431880800319043010\", ldavis_el102139790431880800319043010_data);\n",
              "      });\n",
              "    });\n",
              "}else{\n",
              "    // require.js not available: dynamically load d3 & LDAvis\n",
              "    LDAvis_load_lib(\"https://d3js.org/d3.v5.js\", function(){\n",
              "         LDAvis_load_lib(\"https://cdn.jsdelivr.net/gh/bmabey/pyLDAvis@3.3.1/pyLDAvis/js/ldavis.v3.0.0.js\", function(){\n",
              "                 new LDAvis(\"#\" + \"ldavis_el102139790431880800319043010\", ldavis_el102139790431880800319043010_data);\n",
              "            })\n",
              "         });\n",
              "}\n",
              "</script>"
            ]
          },
          "metadata": {},
          "execution_count": 17
        }
      ]
    },
    {
      "cell_type": "code",
      "source": [],
      "metadata": {
        "id": "mFaJJRtGvNm6"
      },
      "execution_count": null,
      "outputs": []
    }
  ]
}