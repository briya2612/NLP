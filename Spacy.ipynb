{
  "nbformat": 4,
  "nbformat_minor": 0,
  "metadata": {
    "colab": {
      "provenance": []
    },
    "kernelspec": {
      "name": "python3",
      "display_name": "Python 3"
    },
    "language_info": {
      "name": "python"
    }
  },
  "cells": [
    {
      "cell_type": "code",
      "execution_count": null,
      "metadata": {
        "colab": {
          "base_uri": "https://localhost:8080/",
          "height": 35
        },
        "id": "hw6ZNeNtwJXI",
        "outputId": "3dbff6a2-3fcb-4552-82e7-93f5424ed935"
      },
      "outputs": [
        {
          "output_type": "execute_result",
          "data": {
            "text/plain": [
              "'3.4.1'"
            ],
            "application/vnd.google.colaboratory.intrinsic+json": {
              "type": "string"
            }
          },
          "metadata": {},
          "execution_count": 1
        }
      ],
      "source": [
        "import spacy\n",
        "spacy.__version__"
      ]
    },
    {
      "cell_type": "code",
      "source": [
        "from spacy.lang.en import English\n",
        "nlp=English()"
      ],
      "metadata": {
        "id": "8lDtnivLwPv0"
      },
      "execution_count": null,
      "outputs": []
    },
    {
      "cell_type": "code",
      "source": [
        "doc=nlp(\"this is a text\")\n",
        "print([token.text for token in doc])\n",
        "token1=doc[3]\n",
        "token1.text"
      ],
      "metadata": {
        "colab": {
          "base_uri": "https://localhost:8080/",
          "height": 53
        },
        "id": "y_ZbKhXDwhfG",
        "outputId": "90291261-24a4-4a39-e162-c72d220cd98c"
      },
      "execution_count": null,
      "outputs": [
        {
          "output_type": "stream",
          "name": "stdout",
          "text": [
            "['this', 'is', 'a', 'text']\n"
          ]
        },
        {
          "output_type": "execute_result",
          "data": {
            "text/plain": [
              "'text'"
            ],
            "application/vnd.google.colaboratory.intrinsic+json": {
              "type": "string"
            }
          },
          "metadata": {},
          "execution_count": 3
        }
      ]
    },
    {
      "cell_type": "code",
      "source": [
        "span=doc[2:4]\n",
        "span.text"
      ],
      "metadata": {
        "colab": {
          "base_uri": "https://localhost:8080/",
          "height": 35
        },
        "id": "VS4c1tIrw0lA",
        "outputId": "f43be466-71d5-4654-8924-cf051dd303ee"
      },
      "execution_count": null,
      "outputs": [
        {
          "output_type": "execute_result",
          "data": {
            "text/plain": [
              "'a text'"
            ],
            "application/vnd.google.colaboratory.intrinsic+json": {
              "type": "string"
            }
          },
          "metadata": {},
          "execution_count": 4
        }
      ]
    },
    {
      "cell_type": "code",
      "source": [
        "from spacy.tokens import Span\n",
        "doc=nlp(\"I live in New York\")\n",
        "span=Span(doc,3,5,label=\"GPE\")\n",
        "print(span.text)\n",
        "print(span.label_)"
      ],
      "metadata": {
        "colab": {
          "base_uri": "https://localhost:8080/"
        },
        "id": "KsMWnnPCxAIV",
        "outputId": "2e9af6dc-a419-4bb8-be71-db5d9f90f260"
      },
      "execution_count": null,
      "outputs": [
        {
          "output_type": "stream",
          "name": "stdout",
          "text": [
            "New York\n",
            "GPE\n"
          ]
        }
      ]
    },
    {
      "cell_type": "code",
      "source": [
        "doc=nlp(\"Does! this toy cost $10\")\n",
        "print([token.i for token in doc])\n",
        "print([token.text for token in doc])\n",
        "print([token.is_alpha for token in doc])\n",
        "print([token.is_punct for token in doc])\n",
        "print([token.like_num for token in doc])"
      ],
      "metadata": {
        "colab": {
          "base_uri": "https://localhost:8080/"
        },
        "id": "4ucv6exTxoDH",
        "outputId": "a2fadaf7-6b53-4ad5-b4ac-75815984ce99"
      },
      "execution_count": null,
      "outputs": [
        {
          "output_type": "stream",
          "name": "stdout",
          "text": [
            "[0, 1, 2, 3, 4, 5, 6]\n",
            "['Does', '!', 'this', 'toy', 'cost', '$', '10']\n",
            "[True, False, True, True, True, False, False]\n",
            "[False, True, False, False, False, False, False]\n",
            "[False, False, False, False, False, False, True]\n"
          ]
        }
      ]
    },
    {
      "cell_type": "code",
      "source": [
        "!python -m spacy validate"
      ],
      "metadata": {
        "colab": {
          "base_uri": "https://localhost:8080/"
        },
        "id": "I-CNVU7qy1M7",
        "outputId": "2f38648e-a068-4c08-b78b-f51e9611782e"
      },
      "execution_count": null,
      "outputs": [
        {
          "output_type": "stream",
          "name": "stdout",
          "text": [
            "2022-08-22 13:46:21.146752: E tensorflow/stream_executor/cuda/cuda_driver.cc:271] failed call to cuInit: CUDA_ERROR_NO_DEVICE: no CUDA-capable device is detected\n",
            "\u001b[2K\u001b[38;5;2m✔ Loaded compatibility table\u001b[0m\n",
            "\u001b[1m\n",
            "================= Installed pipeline packages (spaCy v3.4.1) =================\u001b[0m\n",
            "\u001b[38;5;4mℹ spaCy installation: /usr/local/lib/python3.7/dist-packages/spacy\u001b[0m\n",
            "\n",
            "NAME             SPACY            VERSION                            \n",
            "en_core_web_sm   >=3.4.0,<3.5.0   \u001b[38;5;2m3.4.0\u001b[0m   \u001b[38;5;2m✔\u001b[0m\n",
            "\n"
          ]
        }
      ]
    },
    {
      "cell_type": "code",
      "source": [
        "doc=nlp(\"The kid is going to school\")\n",
        "for token in doc:\n",
        "  print('token.text:{0};token.pos_:{1};token.dep_:{2};token.head.text:{3}'.format(token.text,token.pos_,token.dep_,token.head.text))"
      ],
      "metadata": {
        "colab": {
          "base_uri": "https://localhost:8080/"
        },
        "id": "CXYqurKJzcVI",
        "outputId": "801ec787-5662-43e9-dd0d-0f06481bcbb2"
      },
      "execution_count": null,
      "outputs": [
        {
          "output_type": "stream",
          "name": "stdout",
          "text": [
            "token.text:The;token.pos_:;token.dep_:;token.head.text:The\n",
            "token.text:kid;token.pos_:;token.dep_:;token.head.text:kid\n",
            "token.text:is;token.pos_:;token.dep_:;token.head.text:is\n",
            "token.text:going;token.pos_:;token.dep_:;token.head.text:going\n",
            "token.text:to;token.pos_:;token.dep_:;token.head.text:to\n",
            "token.text:school;token.pos_:;token.dep_:;token.head.text:school\n"
          ]
        }
      ]
    },
    {
      "cell_type": "code",
      "source": [],
      "metadata": {
        "id": "zjDfN-eCz7Oe"
      },
      "execution_count": null,
      "outputs": []
    }
  ]
}