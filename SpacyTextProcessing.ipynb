{
  "nbformat": 4,
  "nbformat_minor": 0,
  "metadata": {
    "colab": {
      "provenance": []
    },
    "kernelspec": {
      "name": "python3",
      "display_name": "Python 3"
    },
    "language_info": {
      "name": "python"
    }
  },
  "cells": [
    {
      "cell_type": "code",
      "execution_count": null,
      "metadata": {
        "colab": {
          "base_uri": "https://localhost:8080/"
        },
        "id": "GaG9nAs7zHDK",
        "outputId": "e61cba12-2693-45e7-a6a8-2e7552439986"
      },
      "outputs": [
        {
          "output_type": "execute_result",
          "data": {
            "text/plain": [
              "<spacy.lang.en.English at 0x7f3c60cbdb90>"
            ]
          },
          "metadata": {},
          "execution_count": 1
        }
      ],
      "source": [
        "import spacy\n",
        "nlp=spacy.load(\"en_core_web_sm\")\n",
        "nlp"
      ]
    },
    {
      "cell_type": "code",
      "source": [
        "text=\"\"\"The economic situation of the country is on edge, as the stock market crashed causing loss of millions. Citizens who had their main investment in the share-market are facing a great loss. Many companies might lay off thousands of people to reduce labor cost\"\"\"\n",
        "my_doc=nlp(text)\n",
        "type(my_doc)"
      ],
      "metadata": {
        "colab": {
          "base_uri": "https://localhost:8080/"
        },
        "id": "JCnZvhtL1GSy",
        "outputId": "43394862-004c-4a50-8959-234efeddb01a"
      },
      "execution_count": null,
      "outputs": [
        {
          "output_type": "execute_result",
          "data": {
            "text/plain": [
              "spacy.tokens.doc.Doc"
            ]
          },
          "metadata": {},
          "execution_count": 3
        }
      ]
    },
    {
      "cell_type": "code",
      "source": [
        "for tokens in my_doc:\n",
        "  print(tokens.text)"
      ],
      "metadata": {
        "colab": {
          "base_uri": "https://localhost:8080/"
        },
        "id": "45qszFkY13Eo",
        "outputId": "657dfa66-7339-4c16-dad7-938434d033e4"
      },
      "execution_count": null,
      "outputs": [
        {
          "output_type": "stream",
          "name": "stdout",
          "text": [
            "The\n",
            "economic\n",
            "situation\n",
            "of\n",
            "the\n",
            "country\n",
            "is\n",
            "on\n",
            "edge\n",
            ",\n",
            "as\n",
            "the\n",
            "stock\n",
            "market\n",
            "crashed\n",
            "causing\n",
            "loss\n",
            "of\n",
            "millions\n",
            ".\n",
            "Citizens\n",
            "who\n",
            "had\n",
            "their\n",
            "main\n",
            "investment\n",
            "in\n",
            "the\n",
            "share\n",
            "-\n",
            "market\n",
            "are\n",
            "facing\n",
            "a\n",
            "great\n",
            "loss\n",
            ".\n",
            "Many\n",
            "companies\n",
            "might\n",
            "lay\n",
            "off\n",
            "thousands\n",
            "of\n",
            "people\n",
            "to\n",
            "reduce\n",
            "labor\n",
            "cost\n"
          ]
        }
      ]
    },
    {
      "cell_type": "code",
      "source": [
        "for token in my_doc:\n",
        "  print(token.text,\" \",token.is_stop,\" \",token.is_punct)"
      ],
      "metadata": {
        "colab": {
          "base_uri": "https://localhost:8080/"
        },
        "id": "QQel9TNi2DvU",
        "outputId": "9d923d30-d3b9-4ca4-e7d2-42f8e0325ad5"
      },
      "execution_count": null,
      "outputs": [
        {
          "output_type": "stream",
          "name": "stdout",
          "text": [
            "The   True   False\n",
            "economic   False   False\n",
            "situation   False   False\n",
            "of   True   False\n",
            "the   True   False\n",
            "country   False   False\n",
            "is   True   False\n",
            "on   True   False\n",
            "edge   False   False\n",
            ",   False   True\n",
            "as   True   False\n",
            "the   True   False\n",
            "stock   False   False\n",
            "market   False   False\n",
            "crashed   False   False\n",
            "causing   False   False\n",
            "loss   False   False\n",
            "of   True   False\n",
            "millions   False   False\n",
            ".   False   True\n",
            "Citizens   False   False\n",
            "who   True   False\n",
            "had   True   False\n",
            "their   True   False\n",
            "main   False   False\n",
            "investment   False   False\n",
            "in   True   False\n",
            "the   True   False\n",
            "share   False   False\n",
            "-   False   True\n",
            "market   False   False\n",
            "are   True   False\n",
            "facing   False   False\n",
            "a   True   False\n",
            "great   False   False\n",
            "loss   False   False\n",
            ".   False   True\n",
            "Many   True   False\n",
            "companies   False   False\n",
            "might   True   False\n",
            "lay   False   False\n",
            "off   True   False\n",
            "thousands   False   False\n",
            "of   True   False\n",
            "people   False   False\n",
            "to   True   False\n",
            "reduce   False   False\n",
            "labor   False   False\n",
            "cost   False   False\n"
          ]
        }
      ]
    },
    {
      "cell_type": "code",
      "source": [
        "new_doc=[token for token in my_doc if not token.is_stop and not token.is_punct]\n",
        "for token in new_doc:\n",
        "  print(token.text)"
      ],
      "metadata": {
        "colab": {
          "base_uri": "https://localhost:8080/"
        },
        "id": "v0WaYdt13gcA",
        "outputId": "aad5a370-3799-4168-9094-3d90688ed62c"
      },
      "execution_count": null,
      "outputs": [
        {
          "output_type": "stream",
          "name": "stdout",
          "text": [
            "economic\n",
            "situation\n",
            "country\n",
            "edge\n",
            "stock\n",
            "market\n",
            "crashed\n",
            "causing\n",
            "loss\n",
            "millions\n",
            "Citizens\n",
            "main\n",
            "investment\n",
            "share\n",
            "market\n",
            "facing\n",
            "great\n",
            "loss\n",
            "companies\n",
            "lay\n",
            "thousands\n",
            "people\n",
            "reduce\n",
            "labor\n",
            "cost\n"
          ]
        }
      ]
    },
    {
      "cell_type": "code",
      "source": [
        "text='she played chess against rita she likes playing chess'\n",
        "doc=nlp(text)\n",
        "for token in doc:\n",
        "  print(token.lemma_)"
      ],
      "metadata": {
        "colab": {
          "base_uri": "https://localhost:8080/"
        },
        "id": "XeYKBh6D34xi",
        "outputId": "f7dcf872-3320-4cbc-f938-bb41f38e98fb"
      },
      "execution_count": null,
      "outputs": [
        {
          "output_type": "stream",
          "name": "stdout",
          "text": [
            "she\n",
            "play\n",
            "chess\n",
            "against\n",
            "rita\n",
            "she\n",
            "like\n",
            "play\n",
            "chess\n"
          ]
        }
      ]
    },
    {
      "cell_type": "code",
      "source": [
        "doc=nlp(\"I love travelling\")\n",
        "hash=nlp.vocab.strings[\"love\"]\n",
        "print(hash)\n",
        "word=nlp.vocab.strings[hash]\n",
        "print(word)"
      ],
      "metadata": {
        "colab": {
          "base_uri": "https://localhost:8080/"
        },
        "id": "iQHN_ay65Rh9",
        "outputId": "7e9cf268-f0e6-4e41-bbb7-b85b8bc04508"
      },
      "execution_count": null,
      "outputs": [
        {
          "output_type": "stream",
          "name": "stdout",
          "text": [
            "3702023516439754181\n",
            "love\n"
          ]
        }
      ]
    },
    {
      "cell_type": "code",
      "source": [
        "doc1=nlp(\"Raymond shirts are famous\")\n",
        "doc2=nlp(\"I washed my shirts\")\n",
        "for token in doc1:\n",
        "  hash=nlp.vocab.strings[token.text]\n",
        "  print(token.text, \" \", hash)\n",
        "\n",
        "for token in doc2:\n",
        "  hash=nlp.vocab.strings[token.text]\n",
        "  print(token.text, \" \", hash)"
      ],
      "metadata": {
        "colab": {
          "base_uri": "https://localhost:8080/"
        },
        "id": "9zse3Oht5iWb",
        "outputId": "a6c65166-cd57-4136-e52e-14cc3689f99b"
      },
      "execution_count": null,
      "outputs": [
        {
          "output_type": "stream",
          "name": "stdout",
          "text": [
            "Raymond   5945540083247941101\n",
            "shirts   9181315343169869855\n",
            "are   5012629990875267006\n",
            "famous   17809293829314912000\n",
            "I   4690420944186131903\n",
            "washed   5520327350569975027\n",
            "my   227504873216781231\n",
            "shirts   9181315343169869855\n"
          ]
        }
      ]
    },
    {
      "cell_type": "code",
      "source": [
        "text=\"2020 is far worse than 2009\"\n",
        "doc=nlp(text)\n",
        "for token in doc:\n",
        "  if token.like_num:\n",
        "    print(token)"
      ],
      "metadata": {
        "colab": {
          "base_uri": "https://localhost:8080/"
        },
        "id": "YIKGGEXF6W6v",
        "outputId": "2d76332a-ed6a-4013-d684-f0e74cb47953"
      },
      "execution_count": null,
      "outputs": [
        {
          "output_type": "stream",
          "name": "stdout",
          "text": [
            "2020\n",
            "2009\n"
          ]
        }
      ]
    },
    {
      "cell_type": "code",
      "source": [
        "text=\"Production in chennai is 87 %. In Kolkata as low as 43 %. Bangalore goes as high as 98 % and Mysore 78 %\"\n",
        "doc=nlp(text)\n",
        "for token in doc:\n",
        "  if token.like_num:\n",
        "    i=token.i+1\n",
        "    token1=doc[i]\n",
        "    if token1.text==\"%\":\n",
        "      print(token.text)"
      ],
      "metadata": {
        "colab": {
          "base_uri": "https://localhost:8080/"
        },
        "id": "ppV9AU2z6n0i",
        "outputId": "2d843693-7c17-464e-8ed2-5cbb329a8d1d"
      },
      "execution_count": null,
      "outputs": [
        {
          "output_type": "stream",
          "name": "stdout",
          "text": [
            "87\n",
            "43\n",
            "98\n",
            "78\n"
          ]
        }
      ]
    },
    {
      "cell_type": "code",
      "source": [
        "\n"
      ],
      "metadata": {
        "id": "CelQsS5B6-mV"
      },
      "execution_count": null,
      "outputs": []
    },
    {
      "cell_type": "code",
      "source": [],
      "metadata": {
        "id": "e6eqbxkL9E-J"
      },
      "execution_count": null,
      "outputs": []
    }
  ]
}