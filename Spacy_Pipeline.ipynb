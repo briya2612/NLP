{
  "nbformat": 4,
  "nbformat_minor": 0,
  "metadata": {
    "colab": {
      "provenance": []
    },
    "kernelspec": {
      "name": "python3",
      "display_name": "Python 3"
    },
    "language_info": {
      "name": "python"
    }
  },
  "cells": [
    {
      "cell_type": "code",
      "execution_count": null,
      "metadata": {
        "id": "c2IDwp95yJhM"
      },
      "outputs": [],
      "source": [
        "import spacy"
      ]
    },
    {
      "cell_type": "code",
      "source": [
        "nlp=spacy.load(\"en_core_web_sm\")"
      ],
      "metadata": {
        "id": "iS8nQ1rd0qsu"
      },
      "execution_count": null,
      "outputs": []
    },
    {
      "cell_type": "code",
      "source": [
        "nlp.pipe_names"
      ],
      "metadata": {
        "colab": {
          "base_uri": "https://localhost:8080/"
        },
        "id": "A8DBRg8S0y8M",
        "outputId": "97338942-7157-4a23-d4d7-4ee6f8b94829"
      },
      "execution_count": null,
      "outputs": [
        {
          "output_type": "execute_result",
          "data": {
            "text/plain": [
              "['tok2vec', 'tagger', 'parser', 'attribute_ruler', 'lemmatizer', 'ner']"
            ]
          },
          "metadata": {},
          "execution_count": 26
        }
      ]
    },
    {
      "cell_type": "code",
      "source": [
        "nlp.pipeline"
      ],
      "metadata": {
        "colab": {
          "base_uri": "https://localhost:8080/"
        },
        "id": "jhmVuXDt03kt",
        "outputId": "dfad8d1c-b86f-4206-9099-9d8e202fcba3"
      },
      "execution_count": null,
      "outputs": [
        {
          "output_type": "execute_result",
          "data": {
            "text/plain": [
              "[('tok2vec', <spacy.pipeline.tok2vec.Tok2Vec at 0x7f7ff92d4d00>),\n",
              " ('tagger', <spacy.pipeline.tagger.Tagger at 0x7f7ffac50fa0>),\n",
              " ('parser', <spacy.pipeline.dep_parser.DependencyParser at 0x7f7ff73761d0>),\n",
              " ('attribute_ruler',\n",
              "  <spacy.pipeline.attributeruler.AttributeRuler at 0x7f7ff72f17d0>),\n",
              " ('lemmatizer',\n",
              "  <spacy.lang.en.lemmatizer.EnglishLemmatizer at 0x7f7ff72d4a50>),\n",
              " ('ner', <spacy.pipeline.ner.EntityRecognizer at 0x7f7ff7346d50>)]"
            ]
          },
          "metadata": {},
          "execution_count": 27
        }
      ]
    },
    {
      "cell_type": "code",
      "source": [
        "nlp.disable_pipes('tagger','parser')"
      ],
      "metadata": {
        "colab": {
          "base_uri": "https://localhost:8080/"
        },
        "id": "Vx212S2T07B8",
        "outputId": "d8e40283-c2b6-4a18-f296-37f7cc12abda"
      },
      "execution_count": null,
      "outputs": [
        {
          "output_type": "execute_result",
          "data": {
            "text/plain": [
              "['tagger', 'parser']"
            ]
          },
          "metadata": {},
          "execution_count": 28
        }
      ]
    },
    {
      "cell_type": "code",
      "source": [
        "nlp.pipe_names"
      ],
      "metadata": {
        "colab": {
          "base_uri": "https://localhost:8080/"
        },
        "id": "lxLq8xZV1Cf2",
        "outputId": "975b0b20-adf0-4ac9-bcdb-adecdfd65c15"
      },
      "execution_count": null,
      "outputs": [
        {
          "output_type": "execute_result",
          "data": {
            "text/plain": [
              "['tok2vec', 'tagger', 'attribute_ruler', 'lemmatizer', 'ner']"
            ]
          },
          "metadata": {},
          "execution_count": 32
        }
      ]
    },
    {
      "cell_type": "code",
      "source": [
        "nlp=spacy.load(\"en_core_web_sm\", disable=[\"tagger\",\"parser\"])\n",
        "doc=nlp(\"this sentence wouldnt be tagger and parsed\")\n",
        "\n",
        "nlp.enable_pipe(\"tagger\")\n",
        "doc=nlp(\"this sentence will only be tagged\")"
      ],
      "metadata": {
        "id": "lGl5ynLY1Eu2"
      },
      "execution_count": null,
      "outputs": []
    },
    {
      "cell_type": "code",
      "source": [
        "disabled=nlp.select_pipes(disable=[\"tagger\",\"parser\"])\n",
        "disabled.restore()"
      ],
      "metadata": {
        "id": "Mds5OCbT1Y9a"
      },
      "execution_count": null,
      "outputs": []
    },
    {
      "cell_type": "code",
      "source": [
        "nlp.pipe_names"
      ],
      "metadata": {
        "colab": {
          "base_uri": "https://localhost:8080/"
        },
        "id": "7pJHfTwT2G8t",
        "outputId": "36258e61-c6bc-4656-b763-5f91e52ffb71"
      },
      "execution_count": null,
      "outputs": [
        {
          "output_type": "execute_result",
          "data": {
            "text/plain": [
              "['tok2vec', 'tagger', 'attribute_ruler', 'lemmatizer', 'ner']"
            ]
          },
          "metadata": {},
          "execution_count": 35
        }
      ]
    },
    {
      "cell_type": "code",
      "source": [
        "nlp=spacy.load(\"en_core_web_sm\",exclude=[\"ner\"])\n",
        "doc=nlp(\"NER will be excluded from the pipeline\")\n",
        "nlp.pipe_names"
      ],
      "metadata": {
        "colab": {
          "base_uri": "https://localhost:8080/"
        },
        "id": "IPY768X22Lmv",
        "outputId": "5d8edbd1-fcb8-4df2-974f-a587d4566b55"
      },
      "execution_count": null,
      "outputs": [
        {
          "output_type": "execute_result",
          "data": {
            "text/plain": [
              "['tok2vec', 'tagger', 'parser', 'attribute_ruler', 'lemmatizer']"
            ]
          },
          "metadata": {},
          "execution_count": 36
        }
      ]
    },
    {
      "cell_type": "code",
      "source": [
        "nlp.pipe_names"
      ],
      "metadata": {
        "colab": {
          "base_uri": "https://localhost:8080/"
        },
        "id": "1Twk2Xcy2x_n",
        "outputId": "844f9f59-828d-41d3-ff20-8865aa232aa2"
      },
      "execution_count": null,
      "outputs": [
        {
          "output_type": "execute_result",
          "data": {
            "text/plain": [
              "['tok2vec', 'tagger', 'attribute_ruler', 'lemmatizer']"
            ]
          },
          "metadata": {},
          "execution_count": 40
        }
      ]
    },
    {
      "cell_type": "code",
      "source": [
        "nlp=spacy.load(\"en_core_web_sm\")\n",
        "nlp.pipe_names"
      ],
      "metadata": {
        "colab": {
          "base_uri": "https://localhost:8080/"
        },
        "id": "DcXFK-CHvTbr",
        "outputId": "c9f78cb9-e704-4eef-c4df-35cfb8ffc40c"
      },
      "execution_count": null,
      "outputs": [
        {
          "output_type": "execute_result",
          "data": {
            "text/plain": [
              "['tok2vec', 'tagger', 'parser', 'attribute_ruler', 'lemmatizer', 'ner']"
            ]
          },
          "metadata": {},
          "execution_count": 41
        }
      ]
    },
    {
      "cell_type": "code",
      "source": [
        "nlp.remove_pipe(\"parser\")\n",
        "nlp.rename_pipe(\"ner\",\"entityrecognizer\")\n",
        "nlp.pipe_names"
      ],
      "metadata": {
        "colab": {
          "base_uri": "https://localhost:8080/"
        },
        "id": "K-mrCJqzwNpD",
        "outputId": "1e6c3300-27df-4aa6-8cb0-605b6f96e0d0"
      },
      "execution_count": null,
      "outputs": [
        {
          "output_type": "execute_result",
          "data": {
            "text/plain": [
              "['tok2vec', 'tagger', 'attribute_ruler', 'lemmatizer', 'entityrecognizer']"
            ]
          },
          "metadata": {},
          "execution_count": 42
        }
      ]
    },
    {
      "cell_type": "code",
      "source": [
        "from spacy.tokens import Doc\n",
        "if not Doc.has_extension(\"text_id\"):\n",
        "  Doc.set_extension(\"text_id\",default=None)\n",
        "text_tuples=[\n",
        "    (\"this is the first text.\",{\"text_id\":\"text1\"}),\n",
        "    (\"this is the seecond text.\",{\"text_id\":\"text2\"}),\n",
        "]\n",
        "nlp=spacy.load(\"en_core_web_sm\")\n",
        "doc_tuples=nlp.pipe(text_tuples, as_tuples=True)\n",
        "\n",
        "docs=[]\n",
        "for doc, context in doc_tuples:\n",
        "  doc._.text_id=context[\"text_id\"]\n",
        "  docs.append(doc)\n",
        "for doc in docs:\n",
        "  print(f\"{doc._.text_id}:{doc.text}\")"
      ],
      "metadata": {
        "colab": {
          "base_uri": "https://localhost:8080/"
        },
        "id": "MqeMpZ6Lwdkb",
        "outputId": "0ac6e816-e710-410d-eb05-9070a093f5f9"
      },
      "execution_count": null,
      "outputs": [
        {
          "output_type": "stream",
          "name": "stdout",
          "text": [
            "text1:this is the first text.\n",
            "text2:this is the seecond text.\n"
          ]
        }
      ]
    },
    {
      "cell_type": "code",
      "source": [],
      "metadata": {
        "id": "KFfrkjP3yV8N"
      },
      "execution_count": null,
      "outputs": []
    }
  ]
}