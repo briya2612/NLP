{
  "nbformat": 4,
  "nbformat_minor": 0,
  "metadata": {
    "colab": {
      "provenance": []
    },
    "kernelspec": {
      "name": "python3",
      "display_name": "Python 3"
    },
    "language_info": {
      "name": "python"
    }
  },
  "cells": [
    {
      "cell_type": "code",
      "execution_count": null,
      "metadata": {
        "colab": {
          "base_uri": "https://localhost:8080/"
        },
        "id": "TDmGz3jd4jXW",
        "outputId": "bac388fc-78a6-463f-fcea-b2ba67de64f4"
      },
      "outputs": [
        {
          "output_type": "stream",
          "name": "stdout",
          "text": [
            "2022-08-25 12:06:03.019920: E tensorflow/stream_executor/cuda/cuda_driver.cc:271] failed call to cuInit: CUDA_ERROR_NO_DEVICE: no CUDA-capable device is detected\n",
            "Looking in indexes: https://pypi.org/simple, https://us-python.pkg.dev/colab-wheels/public/simple/\n",
            "Collecting en-core-web-lg==3.4.0\n",
            "  Downloading https://github.com/explosion/spacy-models/releases/download/en_core_web_lg-3.4.0/en_core_web_lg-3.4.0-py3-none-any.whl (587.7 MB)\n",
            "\u001b[K     |████████████████████████████████| 587.7 MB 11 kB/s \n",
            "\u001b[?25hRequirement already satisfied: spacy<3.5.0,>=3.4.0 in /usr/local/lib/python3.7/dist-packages (from en-core-web-lg==3.4.0) (3.4.1)\n",
            "Requirement already satisfied: cymem<2.1.0,>=2.0.2 in /usr/local/lib/python3.7/dist-packages (from spacy<3.5.0,>=3.4.0->en-core-web-lg==3.4.0) (2.0.6)\n",
            "Requirement already satisfied: pathy>=0.3.5 in /usr/local/lib/python3.7/dist-packages (from spacy<3.5.0,>=3.4.0->en-core-web-lg==3.4.0) (0.6.2)\n",
            "Requirement already satisfied: thinc<8.2.0,>=8.1.0 in /usr/local/lib/python3.7/dist-packages (from spacy<3.5.0,>=3.4.0->en-core-web-lg==3.4.0) (8.1.0)\n",
            "Requirement already satisfied: catalogue<2.1.0,>=2.0.6 in /usr/local/lib/python3.7/dist-packages (from spacy<3.5.0,>=3.4.0->en-core-web-lg==3.4.0) (2.0.8)\n",
            "Requirement already satisfied: murmurhash<1.1.0,>=0.28.0 in /usr/local/lib/python3.7/dist-packages (from spacy<3.5.0,>=3.4.0->en-core-web-lg==3.4.0) (1.0.8)\n",
            "Requirement already satisfied: pydantic!=1.8,!=1.8.1,<1.10.0,>=1.7.4 in /usr/local/lib/python3.7/dist-packages (from spacy<3.5.0,>=3.4.0->en-core-web-lg==3.4.0) (1.9.2)\n",
            "Requirement already satisfied: preshed<3.1.0,>=3.0.2 in /usr/local/lib/python3.7/dist-packages (from spacy<3.5.0,>=3.4.0->en-core-web-lg==3.4.0) (3.0.7)\n",
            "Requirement already satisfied: requests<3.0.0,>=2.13.0 in /usr/local/lib/python3.7/dist-packages (from spacy<3.5.0,>=3.4.0->en-core-web-lg==3.4.0) (2.23.0)\n",
            "Requirement already satisfied: langcodes<4.0.0,>=3.2.0 in /usr/local/lib/python3.7/dist-packages (from spacy<3.5.0,>=3.4.0->en-core-web-lg==3.4.0) (3.3.0)\n",
            "Requirement already satisfied: numpy>=1.15.0 in /usr/local/lib/python3.7/dist-packages (from spacy<3.5.0,>=3.4.0->en-core-web-lg==3.4.0) (1.21.6)\n",
            "Requirement already satisfied: packaging>=20.0 in /usr/local/lib/python3.7/dist-packages (from spacy<3.5.0,>=3.4.0->en-core-web-lg==3.4.0) (21.3)\n",
            "Requirement already satisfied: tqdm<5.0.0,>=4.38.0 in /usr/local/lib/python3.7/dist-packages (from spacy<3.5.0,>=3.4.0->en-core-web-lg==3.4.0) (4.64.0)\n",
            "Requirement already satisfied: jinja2 in /usr/local/lib/python3.7/dist-packages (from spacy<3.5.0,>=3.4.0->en-core-web-lg==3.4.0) (2.11.3)\n",
            "Requirement already satisfied: srsly<3.0.0,>=2.4.3 in /usr/local/lib/python3.7/dist-packages (from spacy<3.5.0,>=3.4.0->en-core-web-lg==3.4.0) (2.4.4)\n",
            "Requirement already satisfied: typing-extensions<4.2.0,>=3.7.4 in /usr/local/lib/python3.7/dist-packages (from spacy<3.5.0,>=3.4.0->en-core-web-lg==3.4.0) (4.1.1)\n",
            "Requirement already satisfied: setuptools in /usr/local/lib/python3.7/dist-packages (from spacy<3.5.0,>=3.4.0->en-core-web-lg==3.4.0) (57.4.0)\n",
            "Requirement already satisfied: spacy-legacy<3.1.0,>=3.0.9 in /usr/local/lib/python3.7/dist-packages (from spacy<3.5.0,>=3.4.0->en-core-web-lg==3.4.0) (3.0.10)\n",
            "Requirement already satisfied: wasabi<1.1.0,>=0.9.1 in /usr/local/lib/python3.7/dist-packages (from spacy<3.5.0,>=3.4.0->en-core-web-lg==3.4.0) (0.10.1)\n",
            "Requirement already satisfied: spacy-loggers<2.0.0,>=1.0.0 in /usr/local/lib/python3.7/dist-packages (from spacy<3.5.0,>=3.4.0->en-core-web-lg==3.4.0) (1.0.3)\n",
            "Requirement already satisfied: typer<0.5.0,>=0.3.0 in /usr/local/lib/python3.7/dist-packages (from spacy<3.5.0,>=3.4.0->en-core-web-lg==3.4.0) (0.4.2)\n",
            "Requirement already satisfied: zipp>=0.5 in /usr/local/lib/python3.7/dist-packages (from catalogue<2.1.0,>=2.0.6->spacy<3.5.0,>=3.4.0->en-core-web-lg==3.4.0) (3.8.1)\n",
            "Requirement already satisfied: pyparsing!=3.0.5,>=2.0.2 in /usr/local/lib/python3.7/dist-packages (from packaging>=20.0->spacy<3.5.0,>=3.4.0->en-core-web-lg==3.4.0) (3.0.9)\n",
            "Requirement already satisfied: smart-open<6.0.0,>=5.2.1 in /usr/local/lib/python3.7/dist-packages (from pathy>=0.3.5->spacy<3.5.0,>=3.4.0->en-core-web-lg==3.4.0) (5.2.1)\n",
            "Requirement already satisfied: urllib3!=1.25.0,!=1.25.1,<1.26,>=1.21.1 in /usr/local/lib/python3.7/dist-packages (from requests<3.0.0,>=2.13.0->spacy<3.5.0,>=3.4.0->en-core-web-lg==3.4.0) (1.24.3)\n",
            "Requirement already satisfied: chardet<4,>=3.0.2 in /usr/local/lib/python3.7/dist-packages (from requests<3.0.0,>=2.13.0->spacy<3.5.0,>=3.4.0->en-core-web-lg==3.4.0) (3.0.4)\n",
            "Requirement already satisfied: certifi>=2017.4.17 in /usr/local/lib/python3.7/dist-packages (from requests<3.0.0,>=2.13.0->spacy<3.5.0,>=3.4.0->en-core-web-lg==3.4.0) (2022.6.15)\n",
            "Requirement already satisfied: idna<3,>=2.5 in /usr/local/lib/python3.7/dist-packages (from requests<3.0.0,>=2.13.0->spacy<3.5.0,>=3.4.0->en-core-web-lg==3.4.0) (2.10)\n",
            "Requirement already satisfied: blis<0.8.0,>=0.7.8 in /usr/local/lib/python3.7/dist-packages (from thinc<8.2.0,>=8.1.0->spacy<3.5.0,>=3.4.0->en-core-web-lg==3.4.0) (0.7.8)\n",
            "Requirement already satisfied: click<9.0.0,>=7.1.1 in /usr/local/lib/python3.7/dist-packages (from typer<0.5.0,>=0.3.0->spacy<3.5.0,>=3.4.0->en-core-web-lg==3.4.0) (7.1.2)\n",
            "Requirement already satisfied: MarkupSafe>=0.23 in /usr/local/lib/python3.7/dist-packages (from jinja2->spacy<3.5.0,>=3.4.0->en-core-web-lg==3.4.0) (2.0.1)\n",
            "Installing collected packages: en-core-web-lg\n",
            "Successfully installed en-core-web-lg-3.4.0\n",
            "\u001b[38;5;2m✔ Download and installation successful\u001b[0m\n",
            "You can now load the package via spacy.load('en_core_web_lg')\n"
          ]
        }
      ],
      "source": [
        "import spacy\n",
        "!python -m spacy download en_core_web_lg"
      ]
    },
    {
      "cell_type": "code",
      "source": [
        "nlp=spacy.load(\"en_core_web_lg\")"
      ],
      "metadata": {
        "id": "lL2MdVco4pNS"
      },
      "execution_count": null,
      "outputs": []
    },
    {
      "cell_type": "code",
      "source": [
        "nlp(u'lion').vector"
      ],
      "metadata": {
        "colab": {
          "base_uri": "https://localhost:8080/"
        },
        "id": "4N-VrsK841af",
        "outputId": "2b7a18b3-a9fc-45e9-cc30-000d7aa862c8"
      },
      "execution_count": null,
      "outputs": [
        {
          "output_type": "execute_result",
          "data": {
            "text/plain": [
              "array([  1.2746  ,   0.46242 ,  -1.1829  ,  -5.2661  ,  -2.7128  ,\n",
              "         1.8521  ,  -0.94273 ,   2.1865  ,   6.503   ,   0.6704  ,\n",
              "         1.5361  ,   2.5992  ,  -0.36233 ,   4.3965  ,  -6.5644  ,\n",
              "         1.6141  ,  -1.2897  ,   2.1184  ,  -0.63654 ,  -3.4572  ,\n",
              "        -4.3771  ,   4.2074  ,  -3.6411  ,  -0.97214 ,   1.3253  ,\n",
              "        -2.3125  ,  -3.6531  ,  -2.8398  ,   2.7913  ,  -1.53    ,\n",
              "        -2.9984  ,  -2.6357  ,   0.50615 ,  -2.6925  ,   4.3401  ,\n",
              "        -5.6017  ,   0.045691,   4.3832  ,  -0.19535 ,  -1.0751  ,\n",
              "         0.32172 ,   2.4395  ,   4.6638  ,   3.4471  ,  -3.3847  ,\n",
              "        -1.8238  ,   0.70212 ,   0.58557 ,   5.0032  ,  -3.1072  ,\n",
              "         1.2364  ,   7.4595  ,   0.057368,   1.0111  ,  -1.0827  ,\n",
              "         0.69113 ,   2.8009  ,  -3.4383  ,  -1.0599  ,  -2.2627  ,\n",
              "        -5.149   ,  -5.0636  ,   3.1405  ,   1.0793  ,  -0.72892 ,\n",
              "        -3.9939  ,  -0.69551 ,  -0.55767 ,   3.2555  ,  -2.9449  ,\n",
              "         4.7114  ,   1.6388  ,   1.3828  ,   1.4255  ,  -3.2334  ,\n",
              "        -2.274   ,  -1.8136  ,   2.2966  ,   2.5462  ,   1.0722  ,\n",
              "        -0.73447 ,   1.2148  ,  -0.9196  ,  -0.065012,   2.088   ,\n",
              "         0.57002 ,   3.5746  ,   1.7192  ,  -8.335   ,   0.71079 ,\n",
              "         0.91314 ,  -5.0107  ,   1.899   ,  -4.4658  ,   4.7993  ,\n",
              "        -0.39899 ,  -2.673   ,  -2.9354  ,   4.304   ,   1.4336  ,\n",
              "         3.7121  ,   0.34882 ,   4.6512  ,  -4.5731  ,  -4.5665  ,\n",
              "         1.5988  ,  -0.50383 ,   0.95857 ,   0.68728 ,  -0.39976 ,\n",
              "        -3.1922  ,   4.4363  ,  -0.69479 ,  -1.9528  ,   4.9376  ,\n",
              "         2.7259  ,   2.2485  ,   5.5734  ,   2.5842  ,   4.7836  ,\n",
              "        -1.0274  ,   2.2703  ,  -2.0696  ,  -1.0642  ,  -4.932   ,\n",
              "        -2.274   ,   4.1409  ,   0.73313 ,   2.1889  ,  -0.098888,\n",
              "         1.6472  ,  -2.3985  ,   2.5911  ,   3.6026  ,   1.885   ,\n",
              "         5.7822  ,  -1.4481  ,   1.8914  , -10.044   ,  -5.7452  ,\n",
              "        -4.3224  ,  -3.854   ,   2.3084  ,  -0.84018 ,  -0.40526 ,\n",
              "         4.7741  ,  -2.3271  ,   7.064   ,   0.95753 ,  -2.356   ,\n",
              "         0.83953 ,   0.40004 ,   0.33743 ,   0.8376  ,   3.9285  ,\n",
              "         0.05955 ,   2.4422  ,   4.3492  ,   3.9861  ,   2.1043  ,\n",
              "        -1.0197  ,  -0.61752 ,  -0.42999 ,  -0.1014  ,  -5.9571  ,\n",
              "        -0.53818 ,  -1.7797  ,   1.7446  ,   2.3934  ,  -0.50263 ,\n",
              "        -1.6222  ,  -0.37372 ,  -6.8938  ,   0.55018 ,  -2.267   ,\n",
              "         0.64912 ,   3.1525  ,  -2.2541  ,  -4.0384  ,   3.206   ,\n",
              "         0.14962 ,  -2.6662  ,   0.18167 ,   5.0028  ,   2.1521  ,\n",
              "         0.92419 ,   5.4163  ,  -2.2408  ,   1.6585  ,  -5.1625  ,\n",
              "         5.029   ,   0.1026  ,  -0.44542 ,   2.0557  ,   3.7778  ,\n",
              "         3.8679  ,  -2.7135  ,   5.3242  ,  -3.2916  ,   5.6421  ,\n",
              "         5.0466  ,   1.6072  ,  -1.3206  ,   4.2044  ,  -0.33793 ,\n",
              "        -3.1139  ,   2.8841  ,  -3.1565  ,  -2.9832  ,  -0.23235 ,\n",
              "         2.3259  ,   3.5477  ,  -2.1299  ,  -1.8344  ,   2.7271  ,\n",
              "         1.5568  ,   5.6865  ,   0.9412  ,  -2.6412  ,  -5.3254  ,\n",
              "         1.3494  ,  -0.47159 ,   2.4979  ,  -1.5568  ,  -1.6911  ,\n",
              "        -2.1842  ,   6.0319  ,   0.022573,   2.3824  ,  -1.1002  ,\n",
              "         0.90216 ,  -1.9113  ,   1.5527  ,   5.7413  ,  -3.1956  ,\n",
              "         0.68655 ,  -1.6068  ,   1.7404  ,  -3.2142  ,   6.4783  ,\n",
              "         1.7548  ,  -2.9795  ,   0.97631 ,  -0.018354,  -0.6379  ,\n",
              "         0.80559 ,   3.1923  ,   3.3335  ,   4.3068  ,  -1.0819  ,\n",
              "        -1.3839  ,  -4.7626  ,  -4.6637  ,  -1.2201  ,  -3.2741  ,\n",
              "         1.5204  ,   0.78119 ,   8.7339  ,   1.6009  ,  -0.79332 ,\n",
              "         5.8416  ,  -1.485   ,   1.5978  ,   2.9746  ,  -0.30759 ,\n",
              "        -1.8023  ,  -4.8344  ,   1.2817  ,  -2.5469  ,   2.6517  ,\n",
              "         1.4881  ,   2.1952  ,  -0.12652 ,   1.2223  ,   0.44763 ,\n",
              "        -3.1445  ,  -2.2051  ,  -4.1785  ,  -3.6539  ,   5.1929  ,\n",
              "         0.78457 ,  -1.2312  ,   5.5624  ,  -1.8462  ,   6.1262  ,\n",
              "        -1.6653  ,  -2.7557  ,  -0.066465,  -3.6362  ,   5.2005  ,\n",
              "        -1.2865  ,   2.8855  ,   6.1219  ,   1.7824  ,   1.4264  ,\n",
              "        10.628   ,  -0.36028 ,   1.9268  ,  -7.835   ,   0.57865 ],\n",
              "      dtype=float32)"
            ]
          },
          "metadata": {},
          "execution_count": 8
        }
      ]
    },
    {
      "cell_type": "code",
      "source": [
        "nlp(u'lion').vector.shape"
      ],
      "metadata": {
        "colab": {
          "base_uri": "https://localhost:8080/"
        },
        "id": "IO3hsPgw5kua",
        "outputId": "644ba24c-0dcd-4f56-842e-ab9ce0f0c46b"
      },
      "execution_count": null,
      "outputs": [
        {
          "output_type": "execute_result",
          "data": {
            "text/plain": [
              "(300,)"
            ]
          },
          "metadata": {},
          "execution_count": 9
        }
      ]
    },
    {
      "cell_type": "code",
      "source": [
        "nlp(u'Harry Potter is a great wizard.').vector"
      ],
      "metadata": {
        "colab": {
          "base_uri": "https://localhost:8080/"
        },
        "id": "GGnB2YiM5p6j",
        "outputId": "1ae674d0-fbf1-46d2-cfc0-7550dec3cb3e"
      },
      "execution_count": null,
      "outputs": [
        {
          "output_type": "execute_result",
          "data": {
            "text/plain": [
              "array([-1.77769637e+00,  3.48771423e-01, -1.82158279e+00, -1.11954701e+00,\n",
              "        3.99539018e+00, -1.94899961e-01,  5.26224554e-01,  3.34037399e+00,\n",
              "        6.97867095e-01,  1.01945281e+00,  6.51181126e+00, -5.77614367e-01,\n",
              "       -1.44013858e+00,  1.04399717e+00,  1.54432273e+00,  3.52506423e+00,\n",
              "        2.28143859e+00,  1.89934540e+00,  4.44470137e-01,  7.36131251e-01,\n",
              "        1.21800864e+00, -2.20417187e-01, -1.60481498e-01, -1.01497136e-01,\n",
              "       -1.07305728e-01, -1.54509854e+00, -1.47159863e+00, -1.71560013e+00,\n",
              "       -2.04912975e-01,  1.54772568e+00, -1.59142578e+00,  9.10758436e-01,\n",
              "       -8.79641414e-01, -6.54711425e-01, -3.28421569e+00,  1.92984414e+00,\n",
              "       -4.06049997e-01,  6.71462715e-01,  2.50274277e+00, -3.24718684e-01,\n",
              "       -1.32340145e+00,  2.36918020e+00,  1.00934304e-01, -1.93526006e+00,\n",
              "       -1.11029291e+00,  2.03586078e+00,  2.06030011e+00, -2.78836012e+00,\n",
              "        1.04662843e-01,  9.40664172e-01, -6.61994338e-01, -7.25472033e-01,\n",
              "        2.74425292e+00, -2.74154592e+00,  4.85467225e-01, -2.27572873e-01,\n",
              "       -3.48532766e-01,  6.35085702e-01, -7.99928844e-01, -5.75280190e-03,\n",
              "        1.54339004e+00, -1.15824425e+00,  6.79454267e-01,  1.21260986e-01,\n",
              "       -1.66010725e+00,  9.67905700e-01, -2.97465706e+00, -4.54970121e+00,\n",
              "        1.16926730e+00, -4.12588567e-01, -2.04116750e+00,  1.58809972e+00,\n",
              "       -4.24042845e+00, -1.01527166e+00,  8.99160028e-01,  1.59870720e+00,\n",
              "       -2.93044996e+00,  4.04861259e+00, -9.90257680e-01, -2.33724251e-01,\n",
              "       -4.44124556e+00, -3.47406006e+00,  9.34841335e-01, -4.82884616e-01,\n",
              "        7.49375761e-01, -2.97385957e-02,  5.34693837e-01, -1.21955860e+00,\n",
              "        2.02027702e+00, -1.59969532e+00, -2.46232843e+00, -3.17153811e+00,\n",
              "        1.32158911e+00, -4.03663158e+00, -4.95513678e-02, -1.87798584e+00,\n",
              "       -7.25538552e-01,  4.49585736e-01,  8.43316495e-01, -1.52151573e+00,\n",
              "        3.50936443e-01,  2.64120042e-01,  2.81729555e+00,  5.61576319e+00,\n",
              "       -5.57442717e-02,  2.52276993e+00, -3.53200048e-01,  5.78821361e-01,\n",
              "       -1.72568130e+00,  1.47369289e+00, -1.27315438e+00,  2.82926702e+00,\n",
              "       -1.67636299e+00,  3.72570395e+00,  2.70898610e-01, -1.37721419e+00,\n",
              "       -2.31057167e+00,  1.98652908e-01,  2.45110035e-01,  8.29932809e-01,\n",
              "       -2.83992982e+00, -1.46998131e+00,  1.24136567e+00,  4.06458092e+00,\n",
              "       -9.71541405e-01, -4.49825430e+00, -1.10437000e+00, -1.85871005e+00,\n",
              "        3.59405017e+00, -8.21701407e-01, -1.65791285e+00,  1.59790003e+00,\n",
              "        5.29728794e+00, -5.50190020e+00, -1.87632847e+00,  9.29225624e-01,\n",
              "        1.62081695e+00, -2.30712557e+00,  4.03467321e+00, -2.90016985e+00,\n",
              "       -2.31926155e+00,  1.05642843e+00,  1.58000147e+00,  2.08824992e+00,\n",
              "        3.09998602e-01,  7.64050007e-01, -3.63689995e+00,  3.02852899e-01,\n",
              "       -6.10534370e-01,  1.87834144e+00,  1.08263004e+00,  3.66223717e+00,\n",
              "        1.10434568e+00,  1.95099282e+00, -1.76839721e+00,  1.75099027e+00,\n",
              "        4.85387421e+00,  2.53592706e+00, -6.17034316e-01, -7.95174718e-01,\n",
              "       -1.61553574e+00, -2.82335901e+00,  2.58410597e+00,  2.14680719e+00,\n",
              "       -3.68861413e+00, -2.71721005e+00, -2.96350431e+00,  4.42359114e+00,\n",
              "        4.65624273e-01, -4.70800012e-01,  3.37583876e+00, -1.19010007e+00,\n",
              "        2.45384145e+00,  1.89483374e-01,  1.33840573e+00, -2.36974740e+00,\n",
              "       -5.45322835e-01,  4.43691462e-01, -1.83482563e+00, -1.33568859e+00,\n",
              "       -2.36355281e+00,  1.33937287e+00,  2.20330030e-01, -2.32183003e+00,\n",
              "       -1.76931441e+00,  6.34068549e-01, -1.84468710e+00, -1.99032760e+00,\n",
              "       -8.53781402e-01,  3.79485726e+00, -6.86562836e-01, -7.55349696e-01,\n",
              "       -1.20180869e+00, -1.03690565e+00,  8.84502828e-01,  4.28635746e-01,\n",
              "       -2.08986139e+00, -5.02104163e-01,  1.00944996e+00, -1.85877311e+00,\n",
              "        2.35158134e+00, -5.50847173e-01, -3.25488544e+00, -2.39928174e+00,\n",
              "       -6.33334279e-01,  4.94040012e-01, -2.82444263e+00,  1.18885720e+00,\n",
              "       -2.19238019e+00, -2.34383726e+00,  2.43100858e+00,  8.55649948e-01,\n",
              "        7.23285735e-01,  2.67014313e+00,  3.54920000e-01,  1.05772996e+00,\n",
              "       -1.75497568e+00, -1.88808274e+00, -1.46701145e+00,  8.08037221e-01,\n",
              "       -1.23499990e+00, -9.01779950e-01,  7.24049985e-01,  1.13204277e+00,\n",
              "        3.92710537e-01,  7.07099915e-01,  1.35152018e+00,  1.14663148e+00,\n",
              "        2.16772866e+00,  4.10420030e-01,  1.70154274e+00, -4.06697607e+00,\n",
              "        3.52968544e-01,  2.73781419e+00, -2.68667269e+00,  1.01035857e+00,\n",
              "       -1.43895423e+00,  3.14295709e-01, -8.48822892e-01,  2.21753430e+00,\n",
              "        1.54638422e+00,  1.30649567e+00,  1.79219425e+00,  1.85025871e+00,\n",
              "       -8.18663061e-01, -9.07515645e-01, -1.88321996e+00,  2.68720001e-01,\n",
              "       -2.61386424e-01,  2.25318122e+00,  8.80477130e-01, -8.03681374e-01,\n",
              "       -3.74758577e+00, -2.19574142e+00, -1.01359940e+00, -1.68136001e+00,\n",
              "        2.97597718e+00,  1.90392721e+00,  8.97028506e-01, -8.81907046e-01,\n",
              "       -5.39522946e-01,  1.55929565e+00,  2.78535867e+00,  3.79091430e+00,\n",
              "       -6.30262792e-01,  1.20629299e+00, -1.17662013e+00,  1.52283132e+00,\n",
              "       -2.97776604e+00,  1.18632860e-01,  4.39782715e+00, -1.57433093e+00,\n",
              "       -9.19485688e-01, -1.77877140e+00,  1.48484266e+00,  1.74704289e+00,\n",
              "        1.37763011e+00,  1.27335870e+00, -8.01324248e-01,  5.90471327e-01,\n",
              "       -1.83222294e+00, -2.15008712e+00, -1.95266306e+00,  1.96228659e+00,\n",
              "        4.97365141e+00,  1.26562864e-01,  1.69781435e+00,  9.14085686e-01,\n",
              "       -2.40737152e+00,  1.52577722e+00, -9.06245649e-01, -4.98867095e-01,\n",
              "        2.55350542e+00,  1.08528577e-01, -4.77474362e-01,  1.69552863e+00,\n",
              "       -2.81728625e-01,  1.58999562e+00, -1.84582710e+00,  2.21046853e+00],\n",
              "      dtype=float32)"
            ]
          },
          "metadata": {},
          "execution_count": 11
        }
      ]
    },
    {
      "cell_type": "code",
      "source": [
        "tokens=nlp(u'lion cat pet')"
      ],
      "metadata": {
        "id": "iegNjeKD5vCx"
      },
      "execution_count": null,
      "outputs": []
    },
    {
      "cell_type": "code",
      "source": [
        "for token1 in tokens:\n",
        "  for token2 in tokens:\n",
        "    print(token1.text, token2.text, token1.similarity(token2))"
      ],
      "metadata": {
        "colab": {
          "base_uri": "https://localhost:8080/"
        },
        "id": "XNiURutb53p9",
        "outputId": "e24e2a7a-a49d-4421-d451-186b9d1b5b35"
      },
      "execution_count": null,
      "outputs": [
        {
          "output_type": "stream",
          "name": "stdout",
          "text": [
            "lion lion 1.0\n",
            "lion cat 0.3854507803916931\n",
            "lion pet 0.20031584799289703\n",
            "cat lion 0.3854507803916931\n",
            "cat cat 1.0\n",
            "cat pet 0.732966423034668\n",
            "pet lion 0.20031584799289703\n",
            "pet cat 0.732966423034668\n",
            "pet pet 1.0\n"
          ]
        }
      ]
    },
    {
      "cell_type": "code",
      "source": [
        "tokens=nlp(u'like love hate')"
      ],
      "metadata": {
        "id": "hhCa5N-L6G6P"
      },
      "execution_count": null,
      "outputs": []
    },
    {
      "cell_type": "code",
      "source": [
        "for token1 in tokens:\n",
        "  for token2 in tokens:\n",
        "    print(token1.text, token2.text, token1.similarity(token2))"
      ],
      "metadata": {
        "colab": {
          "base_uri": "https://localhost:8080/"
        },
        "id": "iMeaOLkG6PnC",
        "outputId": "c4abdcbe-1bc1-45cf-bed5-f6e104a1900e"
      },
      "execution_count": null,
      "outputs": [
        {
          "output_type": "stream",
          "name": "stdout",
          "text": [
            "like like 1.0\n",
            "like love 0.5212638974189758\n",
            "like hate 0.5065140724182129\n",
            "love like 0.5212638974189758\n",
            "love love 1.0\n",
            "love hate 0.5708349943161011\n",
            "hate like 0.5065140724182129\n",
            "hate love 0.5708349943161011\n",
            "hate hate 1.0\n"
          ]
        }
      ]
    },
    {
      "cell_type": "code",
      "source": [
        "nlp.vocab.vectors.shape"
      ],
      "metadata": {
        "colab": {
          "base_uri": "https://localhost:8080/"
        },
        "id": "saUsd3HW6RDI",
        "outputId": "cd974633-3b6b-47bb-c66c-8b1df771ba97"
      },
      "execution_count": null,
      "outputs": [
        {
          "output_type": "execute_result",
          "data": {
            "text/plain": [
              "(514157, 300)"
            ]
          },
          "metadata": {},
          "execution_count": 16
        }
      ]
    },
    {
      "cell_type": "code",
      "source": [
        "tokens=nlp(u\"dog cat ztztx\")"
      ],
      "metadata": {
        "id": "81MfoCY88zmD"
      },
      "execution_count": null,
      "outputs": []
    },
    {
      "cell_type": "code",
      "source": [
        "for token in tokens:\n",
        "  print(token.text, token.has_vector, token.vector_norm, token.is_oov)"
      ],
      "metadata": {
        "colab": {
          "base_uri": "https://localhost:8080/"
        },
        "id": "6h1TpK_i85mx",
        "outputId": "3c4c1e2b-3840-450b-c2e0-26b66117991a"
      },
      "execution_count": null,
      "outputs": [
        {
          "output_type": "stream",
          "name": "stdout",
          "text": [
            "dog True 75.254234 False\n",
            "cat True 63.188496 False\n",
            "ztztx False 0.0 True\n"
          ]
        }
      ]
    },
    {
      "cell_type": "code",
      "source": [
        "tokens=nlp(u\"dog cat tom\")"
      ],
      "metadata": {
        "id": "YqTrirVG9Jkc"
      },
      "execution_count": null,
      "outputs": []
    },
    {
      "cell_type": "code",
      "source": [
        "for token in tokens:\n",
        "  print(token.text, token.has_vector, token.vector_norm, token.is_oov)"
      ],
      "metadata": {
        "colab": {
          "base_uri": "https://localhost:8080/"
        },
        "id": "9KMbPJTy9TmI",
        "outputId": "55b28e73-a9cb-4ca1-cae2-5a8386b9a0cc"
      },
      "execution_count": null,
      "outputs": [
        {
          "output_type": "stream",
          "name": "stdout",
          "text": [
            "dog True 75.254234 False\n",
            "cat True 63.188496 False\n",
            "tom True 37.51671 False\n"
          ]
        }
      ]
    },
    {
      "cell_type": "code",
      "source": [
        "from scipy import spatial"
      ],
      "metadata": {
        "id": "ViguQTEc9UWZ"
      },
      "execution_count": null,
      "outputs": []
    },
    {
      "cell_type": "code",
      "source": [
        "cosine = lambda vec1,vec2: 1-spatial.distance.cosine(vec1,vec2)"
      ],
      "metadata": {
        "id": "4N_IqlVl9W7k"
      },
      "execution_count": null,
      "outputs": []
    },
    {
      "cell_type": "code",
      "source": [
        "king=nlp(u\"king\").vector\n",
        "man=nlp(u\"man\").vector\n",
        "woman=nlp(u\"woman\").vector\n",
        "newv=king-man+woman\n"
      ],
      "metadata": {
        "id": "lnOaumTV9oIs"
      },
      "execution_count": null,
      "outputs": []
    },
    {
      "cell_type": "code",
      "source": [
        "comp=[]\n",
        "for word in nlp.vocab:\n",
        "  if word.has_vector:\n",
        "    if word.is_lower:\n",
        "      if word.is_alpha:\n",
        "        similarity=cosine(newv,word.vector)\n",
        "        comp.append((word,similarity))\n",
        ""
      ],
      "metadata": {
        "id": "t5XFlHAR-Kzq"
      },
      "execution_count": null,
      "outputs": []
    },
    {
      "cell_type": "code",
      "source": [
        "comp=sorted(comp, key=lambda item: -item[1])"
      ],
      "metadata": {
        "id": "2m7wSprG-X2Y"
      },
      "execution_count": null,
      "outputs": []
    },
    {
      "cell_type": "code",
      "source": [
        "print([t[0].text for t in comp[:10]])"
      ],
      "metadata": {
        "colab": {
          "base_uri": "https://localhost:8080/"
        },
        "id": "kdUtSm6y--_9",
        "outputId": "6d0c913f-4d92-4165-82fe-3f4c101c20c9"
      },
      "execution_count": null,
      "outputs": [
        {
          "output_type": "stream",
          "name": "stdout",
          "text": [
            "['king', 'and', 'that', 'where', 'she', 'they', 'woman', 'there', 'should', 'these']\n"
          ]
        }
      ]
    },
    {
      "cell_type": "code",
      "source": [],
      "metadata": {
        "id": "Jlwgj_OG_ILH"
      },
      "execution_count": null,
      "outputs": []
    }
  ]
}